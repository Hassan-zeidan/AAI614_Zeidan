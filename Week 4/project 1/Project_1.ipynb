{
  "cells": [
    {
      "cell_type": "markdown",
      "metadata": {
        "id": "view-in-github",
        "colab_type": "text"
      },
      "source": [
        "<a href=\"https://colab.research.google.com/github/Hassan-zeidan/AAI614_Zeidan/blob/main/Week%204/project%201/Project_1.ipynb\" target=\"_parent\"><img src=\"https://colab.research.google.com/assets/colab-badge.svg\" alt=\"Open In Colab\"/></a>"
      ]
    },
    {
      "cell_type": "markdown",
      "metadata": {
        "id": "W1ToYLvLV7NZ"
      },
      "source": [
        "<center><h1><font color=\"#e91e63\">PROJECT 1</font></h1>\n",
        ":</center>"
      ]
    },
    {
      "cell_type": "markdown",
      "metadata": {
        "id": "yjt6J37IUJlR"
      },
      "source": [
        "# **Discription :**"
      ]
    },
    {
      "cell_type": "markdown",
      "metadata": {
        "id": "Uwocv2KDUQ4f"
      },
      "source": [
        "In 1995 Kohavi and Becker extracted and cleaned this data from the 1994 US Census. It went on to be used as a benchmark dataset for many papers. In this project, we will work with this dataset to explore patterns of income and consider how time and location may alter or confound these relationships"
      ]
    },
    {
      "cell_type": "markdown",
      "metadata": {
        "id": "JBK05af-UXsl"
      },
      "source": [
        "### **Data exploration**\n",
        "\n",
        "**1-** Check the columns of your data. Are they the expected data types based on their descriptions in this text file description of the data?  \n",
        "**2-** How are missing values represented in this data? Cast missing values to np.nan, if necessary. Count the number of missing values in each column.  \n",
        "**3-** Individually plot the distributions of capital_gain and capital_loss. Do you think these variables should be transformed into categorical variables? Why or why not? If yes, create a new variable(s) with your suggested transformation and plot or describe in a table the distribution of the new categorical variable(s).  \n",
        "**4-** The sampling weights in the dataset are contained in the variable fnlwgt. The weights indicate the share of the population that the sample represents based on location (and sometimes, other factors). More information is provided in this text file description of the data.  \n",
        "**5-** Plot or numerically explore the distribution of fnlwgt. Is the variable symmetrically distributed? Compare the distribution of this variable between men and women and comment on any trends you notice. Should outliers be excluded? If you think yes, set the fnlwgt values for those you deem to be outliers as missing for the remainder of your analyses.\n",
        "\n",
        "\n",
        "### **Correlation:**\n",
        "\n",
        "Find the correlations between age, education_num, and hours_per_week.  \n",
        "\n",
        "**1-** Do any of the variables appear to be correlated? How did you make your assessment?  \n",
        "**2-** Statistically test any variable pairs with a correlation coefficient > |0.1| for its difference from 0 and report your result. Is the direction and significance of your finding as expected?  \n",
        "**3-** How does the correlation (and its significance) between education_num and age compare between male and female participants? Is this expected?  \n",
        "**4-** Compute the covariance matrix for education_num and hours_per_week. What conclusions can you draw from the covariance matrix?"
      ]
    },
    {
      "cell_type": "markdown",
      "metadata": {
        "id": "rOamG9WKVfjb"
      },
      "source": [
        "\n",
        "\n",
        "---\n",
        "\n",
        "\n",
        "\n",
        "---\n",
        "\n"
      ]
    },
    {
      "cell_type": "code",
      "execution_count": null,
      "metadata": {
        "id": "ZIJkOmF9UC1Z"
      },
      "outputs": [],
      "source": [
        "import pandas as pd\n",
        "import numpy as np\n",
        "import matplotlib.pyplot as plt\n",
        "import seaborn as sns"
      ]
    },
    {
      "cell_type": "markdown",
      "metadata": {
        "id": "GvukUH-He1Yv"
      },
      "source": [
        "\n",
        "\n",
        "---\n",
        "\n",
        "\n",
        "**Uploading the files on google co lab , as a csv files**\n",
        "\n",
        "\n",
        "---\n",
        "\n"
      ]
    },
    {
      "cell_type": "code",
      "source": [
        "columns = [ \"age\",\"workclass\",\"fnlwgt\",\"education\",\"education_num\",\"marital_status\",\"occupation\",\"relationship\",\"race\",\"sex\",\"capital_gain\",\"capital_loss\",\"hours_per_week\",\"native_country\",\"income\"]\n",
        "base = \"https://raw.githubusercontent.com/Hassan-zeidan/AAI614_Zeidan/main/Week%204/project%201/\"\n",
        "train = pd.read_csv(base + \"adult.data\" , header=None, names=columns , sep=r\",\\s*\", engine=\"python\")\n",
        "test = pd.read_csv(base + \"adult.test\" , header=None, names=columns , sep=r\",\\s*\", engine=\"python\" , skiprows=1)"
      ],
      "metadata": {
        "id": "iHWuvf07RkN8"
      },
      "execution_count": null,
      "outputs": []
    },
    {
      "cell_type": "markdown",
      "metadata": {
        "id": "53wkYYOne-sE"
      },
      "source": [
        "\n",
        "\n",
        "---\n",
        "\n",
        "\n",
        "**Checking whether both files are working**\n",
        "\n",
        "\n",
        "---\n",
        "\n"
      ]
    },
    {
      "cell_type": "code",
      "execution_count": null,
      "metadata": {
        "colab": {
          "base_uri": "https://localhost:8080/",
          "height": 296
        },
        "id": "ugtFYZuReefB",
        "outputId": "0e9d6d23-d59e-4736-e194-2e8a4498d9a9"
      },
      "outputs": [
        {
          "output_type": "execute_result",
          "data": {
            "text/plain": [
              "   age         workclass  fnlwgt  education  education_num  \\\n",
              "0   39         State-gov   77516  Bachelors             13   \n",
              "1   50  Self-emp-not-inc   83311  Bachelors             13   \n",
              "2   38           Private  215646    HS-grad              9   \n",
              "3   53           Private  234721       11th              7   \n",
              "4   28           Private  338409  Bachelors             13   \n",
              "\n",
              "       marital_status         occupation   relationship   race     sex  \\\n",
              "0       Never-married       Adm-clerical  Not-in-family  White    Male   \n",
              "1  Married-civ-spouse    Exec-managerial        Husband  White    Male   \n",
              "2            Divorced  Handlers-cleaners  Not-in-family  White    Male   \n",
              "3  Married-civ-spouse  Handlers-cleaners        Husband  Black    Male   \n",
              "4  Married-civ-spouse     Prof-specialty           Wife  Black  Female   \n",
              "\n",
              "   capital_gain  capital_loss  hours_per_week native_country income  \n",
              "0          2174             0              40  United-States  <=50K  \n",
              "1             0             0              13  United-States  <=50K  \n",
              "2             0             0              40  United-States  <=50K  \n",
              "3             0             0              40  United-States  <=50K  \n",
              "4             0             0              40           Cuba  <=50K  "
            ],
            "text/html": [
              "\n",
              "  <div id=\"df-a98c5dfe-6fb1-4d57-a85b-8b73a0b7d536\" class=\"colab-df-container\">\n",
              "    <div>\n",
              "<style scoped>\n",
              "    .dataframe tbody tr th:only-of-type {\n",
              "        vertical-align: middle;\n",
              "    }\n",
              "\n",
              "    .dataframe tbody tr th {\n",
              "        vertical-align: top;\n",
              "    }\n",
              "\n",
              "    .dataframe thead th {\n",
              "        text-align: right;\n",
              "    }\n",
              "</style>\n",
              "<table border=\"1\" class=\"dataframe\">\n",
              "  <thead>\n",
              "    <tr style=\"text-align: right;\">\n",
              "      <th></th>\n",
              "      <th>age</th>\n",
              "      <th>workclass</th>\n",
              "      <th>fnlwgt</th>\n",
              "      <th>education</th>\n",
              "      <th>education_num</th>\n",
              "      <th>marital_status</th>\n",
              "      <th>occupation</th>\n",
              "      <th>relationship</th>\n",
              "      <th>race</th>\n",
              "      <th>sex</th>\n",
              "      <th>capital_gain</th>\n",
              "      <th>capital_loss</th>\n",
              "      <th>hours_per_week</th>\n",
              "      <th>native_country</th>\n",
              "      <th>income</th>\n",
              "    </tr>\n",
              "  </thead>\n",
              "  <tbody>\n",
              "    <tr>\n",
              "      <th>0</th>\n",
              "      <td>39</td>\n",
              "      <td>State-gov</td>\n",
              "      <td>77516</td>\n",
              "      <td>Bachelors</td>\n",
              "      <td>13</td>\n",
              "      <td>Never-married</td>\n",
              "      <td>Adm-clerical</td>\n",
              "      <td>Not-in-family</td>\n",
              "      <td>White</td>\n",
              "      <td>Male</td>\n",
              "      <td>2174</td>\n",
              "      <td>0</td>\n",
              "      <td>40</td>\n",
              "      <td>United-States</td>\n",
              "      <td>&lt;=50K</td>\n",
              "    </tr>\n",
              "    <tr>\n",
              "      <th>1</th>\n",
              "      <td>50</td>\n",
              "      <td>Self-emp-not-inc</td>\n",
              "      <td>83311</td>\n",
              "      <td>Bachelors</td>\n",
              "      <td>13</td>\n",
              "      <td>Married-civ-spouse</td>\n",
              "      <td>Exec-managerial</td>\n",
              "      <td>Husband</td>\n",
              "      <td>White</td>\n",
              "      <td>Male</td>\n",
              "      <td>0</td>\n",
              "      <td>0</td>\n",
              "      <td>13</td>\n",
              "      <td>United-States</td>\n",
              "      <td>&lt;=50K</td>\n",
              "    </tr>\n",
              "    <tr>\n",
              "      <th>2</th>\n",
              "      <td>38</td>\n",
              "      <td>Private</td>\n",
              "      <td>215646</td>\n",
              "      <td>HS-grad</td>\n",
              "      <td>9</td>\n",
              "      <td>Divorced</td>\n",
              "      <td>Handlers-cleaners</td>\n",
              "      <td>Not-in-family</td>\n",
              "      <td>White</td>\n",
              "      <td>Male</td>\n",
              "      <td>0</td>\n",
              "      <td>0</td>\n",
              "      <td>40</td>\n",
              "      <td>United-States</td>\n",
              "      <td>&lt;=50K</td>\n",
              "    </tr>\n",
              "    <tr>\n",
              "      <th>3</th>\n",
              "      <td>53</td>\n",
              "      <td>Private</td>\n",
              "      <td>234721</td>\n",
              "      <td>11th</td>\n",
              "      <td>7</td>\n",
              "      <td>Married-civ-spouse</td>\n",
              "      <td>Handlers-cleaners</td>\n",
              "      <td>Husband</td>\n",
              "      <td>Black</td>\n",
              "      <td>Male</td>\n",
              "      <td>0</td>\n",
              "      <td>0</td>\n",
              "      <td>40</td>\n",
              "      <td>United-States</td>\n",
              "      <td>&lt;=50K</td>\n",
              "    </tr>\n",
              "    <tr>\n",
              "      <th>4</th>\n",
              "      <td>28</td>\n",
              "      <td>Private</td>\n",
              "      <td>338409</td>\n",
              "      <td>Bachelors</td>\n",
              "      <td>13</td>\n",
              "      <td>Married-civ-spouse</td>\n",
              "      <td>Prof-specialty</td>\n",
              "      <td>Wife</td>\n",
              "      <td>Black</td>\n",
              "      <td>Female</td>\n",
              "      <td>0</td>\n",
              "      <td>0</td>\n",
              "      <td>40</td>\n",
              "      <td>Cuba</td>\n",
              "      <td>&lt;=50K</td>\n",
              "    </tr>\n",
              "  </tbody>\n",
              "</table>\n",
              "</div>\n",
              "    <div class=\"colab-df-buttons\">\n",
              "\n",
              "  <div class=\"colab-df-container\">\n",
              "    <button class=\"colab-df-convert\" onclick=\"convertToInteractive('df-a98c5dfe-6fb1-4d57-a85b-8b73a0b7d536')\"\n",
              "            title=\"Convert this dataframe to an interactive table.\"\n",
              "            style=\"display:none;\">\n",
              "\n",
              "  <svg xmlns=\"http://www.w3.org/2000/svg\" height=\"24px\" viewBox=\"0 -960 960 960\">\n",
              "    <path d=\"M120-120v-720h720v720H120Zm60-500h600v-160H180v160Zm220 220h160v-160H400v160Zm0 220h160v-160H400v160ZM180-400h160v-160H180v160Zm440 0h160v-160H620v160ZM180-180h160v-160H180v160Zm440 0h160v-160H620v160Z\"/>\n",
              "  </svg>\n",
              "    </button>\n",
              "\n",
              "  <style>\n",
              "    .colab-df-container {\n",
              "      display:flex;\n",
              "      gap: 12px;\n",
              "    }\n",
              "\n",
              "    .colab-df-convert {\n",
              "      background-color: #E8F0FE;\n",
              "      border: none;\n",
              "      border-radius: 50%;\n",
              "      cursor: pointer;\n",
              "      display: none;\n",
              "      fill: #1967D2;\n",
              "      height: 32px;\n",
              "      padding: 0 0 0 0;\n",
              "      width: 32px;\n",
              "    }\n",
              "\n",
              "    .colab-df-convert:hover {\n",
              "      background-color: #E2EBFA;\n",
              "      box-shadow: 0px 1px 2px rgba(60, 64, 67, 0.3), 0px 1px 3px 1px rgba(60, 64, 67, 0.15);\n",
              "      fill: #174EA6;\n",
              "    }\n",
              "\n",
              "    .colab-df-buttons div {\n",
              "      margin-bottom: 4px;\n",
              "    }\n",
              "\n",
              "    [theme=dark] .colab-df-convert {\n",
              "      background-color: #3B4455;\n",
              "      fill: #D2E3FC;\n",
              "    }\n",
              "\n",
              "    [theme=dark] .colab-df-convert:hover {\n",
              "      background-color: #434B5C;\n",
              "      box-shadow: 0px 1px 3px 1px rgba(0, 0, 0, 0.15);\n",
              "      filter: drop-shadow(0px 1px 2px rgba(0, 0, 0, 0.3));\n",
              "      fill: #FFFFFF;\n",
              "    }\n",
              "  </style>\n",
              "\n",
              "    <script>\n",
              "      const buttonEl =\n",
              "        document.querySelector('#df-a98c5dfe-6fb1-4d57-a85b-8b73a0b7d536 button.colab-df-convert');\n",
              "      buttonEl.style.display =\n",
              "        google.colab.kernel.accessAllowed ? 'block' : 'none';\n",
              "\n",
              "      async function convertToInteractive(key) {\n",
              "        const element = document.querySelector('#df-a98c5dfe-6fb1-4d57-a85b-8b73a0b7d536');\n",
              "        const dataTable =\n",
              "          await google.colab.kernel.invokeFunction('convertToInteractive',\n",
              "                                                    [key], {});\n",
              "        if (!dataTable) return;\n",
              "\n",
              "        const docLinkHtml = 'Like what you see? Visit the ' +\n",
              "          '<a target=\"_blank\" href=https://colab.research.google.com/notebooks/data_table.ipynb>data table notebook</a>'\n",
              "          + ' to learn more about interactive tables.';\n",
              "        element.innerHTML = '';\n",
              "        dataTable['output_type'] = 'display_data';\n",
              "        await google.colab.output.renderOutput(dataTable, element);\n",
              "        const docLink = document.createElement('div');\n",
              "        docLink.innerHTML = docLinkHtml;\n",
              "        element.appendChild(docLink);\n",
              "      }\n",
              "    </script>\n",
              "  </div>\n",
              "\n",
              "\n",
              "    <div id=\"df-17758642-cb26-49aa-8029-ae12dc7fb328\">\n",
              "      <button class=\"colab-df-quickchart\" onclick=\"quickchart('df-17758642-cb26-49aa-8029-ae12dc7fb328')\"\n",
              "                title=\"Suggest charts\"\n",
              "                style=\"display:none;\">\n",
              "\n",
              "<svg xmlns=\"http://www.w3.org/2000/svg\" height=\"24px\"viewBox=\"0 0 24 24\"\n",
              "     width=\"24px\">\n",
              "    <g>\n",
              "        <path d=\"M19 3H5c-1.1 0-2 .9-2 2v14c0 1.1.9 2 2 2h14c1.1 0 2-.9 2-2V5c0-1.1-.9-2-2-2zM9 17H7v-7h2v7zm4 0h-2V7h2v10zm4 0h-2v-4h2v4z\"/>\n",
              "    </g>\n",
              "</svg>\n",
              "      </button>\n",
              "\n",
              "<style>\n",
              "  .colab-df-quickchart {\n",
              "      --bg-color: #E8F0FE;\n",
              "      --fill-color: #1967D2;\n",
              "      --hover-bg-color: #E2EBFA;\n",
              "      --hover-fill-color: #174EA6;\n",
              "      --disabled-fill-color: #AAA;\n",
              "      --disabled-bg-color: #DDD;\n",
              "  }\n",
              "\n",
              "  [theme=dark] .colab-df-quickchart {\n",
              "      --bg-color: #3B4455;\n",
              "      --fill-color: #D2E3FC;\n",
              "      --hover-bg-color: #434B5C;\n",
              "      --hover-fill-color: #FFFFFF;\n",
              "      --disabled-bg-color: #3B4455;\n",
              "      --disabled-fill-color: #666;\n",
              "  }\n",
              "\n",
              "  .colab-df-quickchart {\n",
              "    background-color: var(--bg-color);\n",
              "    border: none;\n",
              "    border-radius: 50%;\n",
              "    cursor: pointer;\n",
              "    display: none;\n",
              "    fill: var(--fill-color);\n",
              "    height: 32px;\n",
              "    padding: 0;\n",
              "    width: 32px;\n",
              "  }\n",
              "\n",
              "  .colab-df-quickchart:hover {\n",
              "    background-color: var(--hover-bg-color);\n",
              "    box-shadow: 0 1px 2px rgba(60, 64, 67, 0.3), 0 1px 3px 1px rgba(60, 64, 67, 0.15);\n",
              "    fill: var(--button-hover-fill-color);\n",
              "  }\n",
              "\n",
              "  .colab-df-quickchart-complete:disabled,\n",
              "  .colab-df-quickchart-complete:disabled:hover {\n",
              "    background-color: var(--disabled-bg-color);\n",
              "    fill: var(--disabled-fill-color);\n",
              "    box-shadow: none;\n",
              "  }\n",
              "\n",
              "  .colab-df-spinner {\n",
              "    border: 2px solid var(--fill-color);\n",
              "    border-color: transparent;\n",
              "    border-bottom-color: var(--fill-color);\n",
              "    animation:\n",
              "      spin 1s steps(1) infinite;\n",
              "  }\n",
              "\n",
              "  @keyframes spin {\n",
              "    0% {\n",
              "      border-color: transparent;\n",
              "      border-bottom-color: var(--fill-color);\n",
              "      border-left-color: var(--fill-color);\n",
              "    }\n",
              "    20% {\n",
              "      border-color: transparent;\n",
              "      border-left-color: var(--fill-color);\n",
              "      border-top-color: var(--fill-color);\n",
              "    }\n",
              "    30% {\n",
              "      border-color: transparent;\n",
              "      border-left-color: var(--fill-color);\n",
              "      border-top-color: var(--fill-color);\n",
              "      border-right-color: var(--fill-color);\n",
              "    }\n",
              "    40% {\n",
              "      border-color: transparent;\n",
              "      border-right-color: var(--fill-color);\n",
              "      border-top-color: var(--fill-color);\n",
              "    }\n",
              "    60% {\n",
              "      border-color: transparent;\n",
              "      border-right-color: var(--fill-color);\n",
              "    }\n",
              "    80% {\n",
              "      border-color: transparent;\n",
              "      border-right-color: var(--fill-color);\n",
              "      border-bottom-color: var(--fill-color);\n",
              "    }\n",
              "    90% {\n",
              "      border-color: transparent;\n",
              "      border-bottom-color: var(--fill-color);\n",
              "    }\n",
              "  }\n",
              "</style>\n",
              "\n",
              "      <script>\n",
              "        async function quickchart(key) {\n",
              "          const quickchartButtonEl =\n",
              "            document.querySelector('#' + key + ' button');\n",
              "          quickchartButtonEl.disabled = true;  // To prevent multiple clicks.\n",
              "          quickchartButtonEl.classList.add('colab-df-spinner');\n",
              "          try {\n",
              "            const charts = await google.colab.kernel.invokeFunction(\n",
              "                'suggestCharts', [key], {});\n",
              "          } catch (error) {\n",
              "            console.error('Error during call to suggestCharts:', error);\n",
              "          }\n",
              "          quickchartButtonEl.classList.remove('colab-df-spinner');\n",
              "          quickchartButtonEl.classList.add('colab-df-quickchart-complete');\n",
              "        }\n",
              "        (() => {\n",
              "          let quickchartButtonEl =\n",
              "            document.querySelector('#df-17758642-cb26-49aa-8029-ae12dc7fb328 button');\n",
              "          quickchartButtonEl.style.display =\n",
              "            google.colab.kernel.accessAllowed ? 'block' : 'none';\n",
              "        })();\n",
              "      </script>\n",
              "    </div>\n",
              "\n",
              "    </div>\n",
              "  </div>\n"
            ],
            "application/vnd.google.colaboratory.intrinsic+json": {
              "type": "dataframe",
              "variable_name": "train",
              "summary": "{\n  \"name\": \"train\",\n  \"rows\": 32561,\n  \"fields\": [\n    {\n      \"column\": \"age\",\n      \"properties\": {\n        \"dtype\": \"number\",\n        \"std\": 13,\n        \"min\": 17,\n        \"max\": 90,\n        \"num_unique_values\": 73,\n        \"samples\": [\n          28,\n          73,\n          35\n        ],\n        \"semantic_type\": \"\",\n        \"description\": \"\"\n      }\n    },\n    {\n      \"column\": \"workclass\",\n      \"properties\": {\n        \"dtype\": \"category\",\n        \"num_unique_values\": 9,\n        \"samples\": [\n          \"Without-pay\",\n          \"Self-emp-not-inc\",\n          \"?\"\n        ],\n        \"semantic_type\": \"\",\n        \"description\": \"\"\n      }\n    },\n    {\n      \"column\": \"fnlwgt\",\n      \"properties\": {\n        \"dtype\": \"number\",\n        \"std\": 105549,\n        \"min\": 12285,\n        \"max\": 1484705,\n        \"num_unique_values\": 21648,\n        \"samples\": [\n          128485,\n          469907,\n          235951\n        ],\n        \"semantic_type\": \"\",\n        \"description\": \"\"\n      }\n    },\n    {\n      \"column\": \"education\",\n      \"properties\": {\n        \"dtype\": \"category\",\n        \"num_unique_values\": 16,\n        \"samples\": [\n          \"Bachelors\",\n          \"HS-grad\",\n          \"Some-college\"\n        ],\n        \"semantic_type\": \"\",\n        \"description\": \"\"\n      }\n    },\n    {\n      \"column\": \"education_num\",\n      \"properties\": {\n        \"dtype\": \"number\",\n        \"std\": 2,\n        \"min\": 1,\n        \"max\": 16,\n        \"num_unique_values\": 16,\n        \"samples\": [\n          13,\n          9,\n          10\n        ],\n        \"semantic_type\": \"\",\n        \"description\": \"\"\n      }\n    },\n    {\n      \"column\": \"marital_status\",\n      \"properties\": {\n        \"dtype\": \"category\",\n        \"num_unique_values\": 7,\n        \"samples\": [\n          \"Never-married\",\n          \"Married-civ-spouse\",\n          \"Married-AF-spouse\"\n        ],\n        \"semantic_type\": \"\",\n        \"description\": \"\"\n      }\n    },\n    {\n      \"column\": \"occupation\",\n      \"properties\": {\n        \"dtype\": \"category\",\n        \"num_unique_values\": 15,\n        \"samples\": [\n          \"Machine-op-inspct\",\n          \"?\",\n          \"Adm-clerical\"\n        ],\n        \"semantic_type\": \"\",\n        \"description\": \"\"\n      }\n    },\n    {\n      \"column\": \"relationship\",\n      \"properties\": {\n        \"dtype\": \"category\",\n        \"num_unique_values\": 6,\n        \"samples\": [\n          \"Not-in-family\",\n          \"Husband\",\n          \"Other-relative\"\n        ],\n        \"semantic_type\": \"\",\n        \"description\": \"\"\n      }\n    },\n    {\n      \"column\": \"race\",\n      \"properties\": {\n        \"dtype\": \"category\",\n        \"num_unique_values\": 5,\n        \"samples\": [\n          \"Black\",\n          \"Other\",\n          \"Asian-Pac-Islander\"\n        ],\n        \"semantic_type\": \"\",\n        \"description\": \"\"\n      }\n    },\n    {\n      \"column\": \"sex\",\n      \"properties\": {\n        \"dtype\": \"category\",\n        \"num_unique_values\": 2,\n        \"samples\": [\n          \"Female\",\n          \"Male\"\n        ],\n        \"semantic_type\": \"\",\n        \"description\": \"\"\n      }\n    },\n    {\n      \"column\": \"capital_gain\",\n      \"properties\": {\n        \"dtype\": \"number\",\n        \"std\": 7385,\n        \"min\": 0,\n        \"max\": 99999,\n        \"num_unique_values\": 119,\n        \"samples\": [\n          3781,\n          15831\n        ],\n        \"semantic_type\": \"\",\n        \"description\": \"\"\n      }\n    },\n    {\n      \"column\": \"capital_loss\",\n      \"properties\": {\n        \"dtype\": \"number\",\n        \"std\": 402,\n        \"min\": 0,\n        \"max\": 4356,\n        \"num_unique_values\": 92,\n        \"samples\": [\n          419,\n          2051\n        ],\n        \"semantic_type\": \"\",\n        \"description\": \"\"\n      }\n    },\n    {\n      \"column\": \"hours_per_week\",\n      \"properties\": {\n        \"dtype\": \"number\",\n        \"std\": 12,\n        \"min\": 1,\n        \"max\": 99,\n        \"num_unique_values\": 94,\n        \"samples\": [\n          6,\n          22\n        ],\n        \"semantic_type\": \"\",\n        \"description\": \"\"\n      }\n    },\n    {\n      \"column\": \"native_country\",\n      \"properties\": {\n        \"dtype\": \"category\",\n        \"num_unique_values\": 42,\n        \"samples\": [\n          \"El-Salvador\",\n          \"Philippines\"\n        ],\n        \"semantic_type\": \"\",\n        \"description\": \"\"\n      }\n    },\n    {\n      \"column\": \"income\",\n      \"properties\": {\n        \"dtype\": \"category\",\n        \"num_unique_values\": 2,\n        \"samples\": [\n          \">50K\",\n          \"<=50K\"\n        ],\n        \"semantic_type\": \"\",\n        \"description\": \"\"\n      }\n    }\n  ]\n}"
            }
          },
          "metadata": {},
          "execution_count": 4
        }
      ],
      "source": [
        "train.head(5)"
      ]
    },
    {
      "cell_type": "code",
      "execution_count": null,
      "metadata": {
        "colab": {
          "base_uri": "https://localhost:8080/",
          "height": 167
        },
        "id": "Cx129zmVfEgA",
        "outputId": "cfec04c3-9c5d-4352-ea30-e507d2137816"
      },
      "outputs": [
        {
          "output_type": "execute_result",
          "data": {
            "text/plain": [
              "   age workclass  fnlwgt education  education_num      marital_status  \\\n",
              "0   25   Private  226802      11th              7       Never-married   \n",
              "1   38   Private   89814   HS-grad              9  Married-civ-spouse   \n",
              "\n",
              "          occupation relationship   race   sex  capital_gain  capital_loss  \\\n",
              "0  Machine-op-inspct    Own-child  Black  Male             0             0   \n",
              "1    Farming-fishing      Husband  White  Male             0             0   \n",
              "\n",
              "   hours_per_week native_country  income  \n",
              "0              40  United-States  <=50K.  \n",
              "1              50  United-States  <=50K.  "
            ],
            "text/html": [
              "\n",
              "  <div id=\"df-d960503a-91a0-4f17-88af-2f4dbc3081ae\" class=\"colab-df-container\">\n",
              "    <div>\n",
              "<style scoped>\n",
              "    .dataframe tbody tr th:only-of-type {\n",
              "        vertical-align: middle;\n",
              "    }\n",
              "\n",
              "    .dataframe tbody tr th {\n",
              "        vertical-align: top;\n",
              "    }\n",
              "\n",
              "    .dataframe thead th {\n",
              "        text-align: right;\n",
              "    }\n",
              "</style>\n",
              "<table border=\"1\" class=\"dataframe\">\n",
              "  <thead>\n",
              "    <tr style=\"text-align: right;\">\n",
              "      <th></th>\n",
              "      <th>age</th>\n",
              "      <th>workclass</th>\n",
              "      <th>fnlwgt</th>\n",
              "      <th>education</th>\n",
              "      <th>education_num</th>\n",
              "      <th>marital_status</th>\n",
              "      <th>occupation</th>\n",
              "      <th>relationship</th>\n",
              "      <th>race</th>\n",
              "      <th>sex</th>\n",
              "      <th>capital_gain</th>\n",
              "      <th>capital_loss</th>\n",
              "      <th>hours_per_week</th>\n",
              "      <th>native_country</th>\n",
              "      <th>income</th>\n",
              "    </tr>\n",
              "  </thead>\n",
              "  <tbody>\n",
              "    <tr>\n",
              "      <th>0</th>\n",
              "      <td>25</td>\n",
              "      <td>Private</td>\n",
              "      <td>226802</td>\n",
              "      <td>11th</td>\n",
              "      <td>7</td>\n",
              "      <td>Never-married</td>\n",
              "      <td>Machine-op-inspct</td>\n",
              "      <td>Own-child</td>\n",
              "      <td>Black</td>\n",
              "      <td>Male</td>\n",
              "      <td>0</td>\n",
              "      <td>0</td>\n",
              "      <td>40</td>\n",
              "      <td>United-States</td>\n",
              "      <td>&lt;=50K.</td>\n",
              "    </tr>\n",
              "    <tr>\n",
              "      <th>1</th>\n",
              "      <td>38</td>\n",
              "      <td>Private</td>\n",
              "      <td>89814</td>\n",
              "      <td>HS-grad</td>\n",
              "      <td>9</td>\n",
              "      <td>Married-civ-spouse</td>\n",
              "      <td>Farming-fishing</td>\n",
              "      <td>Husband</td>\n",
              "      <td>White</td>\n",
              "      <td>Male</td>\n",
              "      <td>0</td>\n",
              "      <td>0</td>\n",
              "      <td>50</td>\n",
              "      <td>United-States</td>\n",
              "      <td>&lt;=50K.</td>\n",
              "    </tr>\n",
              "  </tbody>\n",
              "</table>\n",
              "</div>\n",
              "    <div class=\"colab-df-buttons\">\n",
              "\n",
              "  <div class=\"colab-df-container\">\n",
              "    <button class=\"colab-df-convert\" onclick=\"convertToInteractive('df-d960503a-91a0-4f17-88af-2f4dbc3081ae')\"\n",
              "            title=\"Convert this dataframe to an interactive table.\"\n",
              "            style=\"display:none;\">\n",
              "\n",
              "  <svg xmlns=\"http://www.w3.org/2000/svg\" height=\"24px\" viewBox=\"0 -960 960 960\">\n",
              "    <path d=\"M120-120v-720h720v720H120Zm60-500h600v-160H180v160Zm220 220h160v-160H400v160Zm0 220h160v-160H400v160ZM180-400h160v-160H180v160Zm440 0h160v-160H620v160ZM180-180h160v-160H180v160Zm440 0h160v-160H620v160Z\"/>\n",
              "  </svg>\n",
              "    </button>\n",
              "\n",
              "  <style>\n",
              "    .colab-df-container {\n",
              "      display:flex;\n",
              "      gap: 12px;\n",
              "    }\n",
              "\n",
              "    .colab-df-convert {\n",
              "      background-color: #E8F0FE;\n",
              "      border: none;\n",
              "      border-radius: 50%;\n",
              "      cursor: pointer;\n",
              "      display: none;\n",
              "      fill: #1967D2;\n",
              "      height: 32px;\n",
              "      padding: 0 0 0 0;\n",
              "      width: 32px;\n",
              "    }\n",
              "\n",
              "    .colab-df-convert:hover {\n",
              "      background-color: #E2EBFA;\n",
              "      box-shadow: 0px 1px 2px rgba(60, 64, 67, 0.3), 0px 1px 3px 1px rgba(60, 64, 67, 0.15);\n",
              "      fill: #174EA6;\n",
              "    }\n",
              "\n",
              "    .colab-df-buttons div {\n",
              "      margin-bottom: 4px;\n",
              "    }\n",
              "\n",
              "    [theme=dark] .colab-df-convert {\n",
              "      background-color: #3B4455;\n",
              "      fill: #D2E3FC;\n",
              "    }\n",
              "\n",
              "    [theme=dark] .colab-df-convert:hover {\n",
              "      background-color: #434B5C;\n",
              "      box-shadow: 0px 1px 3px 1px rgba(0, 0, 0, 0.15);\n",
              "      filter: drop-shadow(0px 1px 2px rgba(0, 0, 0, 0.3));\n",
              "      fill: #FFFFFF;\n",
              "    }\n",
              "  </style>\n",
              "\n",
              "    <script>\n",
              "      const buttonEl =\n",
              "        document.querySelector('#df-d960503a-91a0-4f17-88af-2f4dbc3081ae button.colab-df-convert');\n",
              "      buttonEl.style.display =\n",
              "        google.colab.kernel.accessAllowed ? 'block' : 'none';\n",
              "\n",
              "      async function convertToInteractive(key) {\n",
              "        const element = document.querySelector('#df-d960503a-91a0-4f17-88af-2f4dbc3081ae');\n",
              "        const dataTable =\n",
              "          await google.colab.kernel.invokeFunction('convertToInteractive',\n",
              "                                                    [key], {});\n",
              "        if (!dataTable) return;\n",
              "\n",
              "        const docLinkHtml = 'Like what you see? Visit the ' +\n",
              "          '<a target=\"_blank\" href=https://colab.research.google.com/notebooks/data_table.ipynb>data table notebook</a>'\n",
              "          + ' to learn more about interactive tables.';\n",
              "        element.innerHTML = '';\n",
              "        dataTable['output_type'] = 'display_data';\n",
              "        await google.colab.output.renderOutput(dataTable, element);\n",
              "        const docLink = document.createElement('div');\n",
              "        docLink.innerHTML = docLinkHtml;\n",
              "        element.appendChild(docLink);\n",
              "      }\n",
              "    </script>\n",
              "  </div>\n",
              "\n",
              "\n",
              "    <div id=\"df-2c73f2a6-1b49-4cdd-9af4-2c8c707b275e\">\n",
              "      <button class=\"colab-df-quickchart\" onclick=\"quickchart('df-2c73f2a6-1b49-4cdd-9af4-2c8c707b275e')\"\n",
              "                title=\"Suggest charts\"\n",
              "                style=\"display:none;\">\n",
              "\n",
              "<svg xmlns=\"http://www.w3.org/2000/svg\" height=\"24px\"viewBox=\"0 0 24 24\"\n",
              "     width=\"24px\">\n",
              "    <g>\n",
              "        <path d=\"M19 3H5c-1.1 0-2 .9-2 2v14c0 1.1.9 2 2 2h14c1.1 0 2-.9 2-2V5c0-1.1-.9-2-2-2zM9 17H7v-7h2v7zm4 0h-2V7h2v10zm4 0h-2v-4h2v4z\"/>\n",
              "    </g>\n",
              "</svg>\n",
              "      </button>\n",
              "\n",
              "<style>\n",
              "  .colab-df-quickchart {\n",
              "      --bg-color: #E8F0FE;\n",
              "      --fill-color: #1967D2;\n",
              "      --hover-bg-color: #E2EBFA;\n",
              "      --hover-fill-color: #174EA6;\n",
              "      --disabled-fill-color: #AAA;\n",
              "      --disabled-bg-color: #DDD;\n",
              "  }\n",
              "\n",
              "  [theme=dark] .colab-df-quickchart {\n",
              "      --bg-color: #3B4455;\n",
              "      --fill-color: #D2E3FC;\n",
              "      --hover-bg-color: #434B5C;\n",
              "      --hover-fill-color: #FFFFFF;\n",
              "      --disabled-bg-color: #3B4455;\n",
              "      --disabled-fill-color: #666;\n",
              "  }\n",
              "\n",
              "  .colab-df-quickchart {\n",
              "    background-color: var(--bg-color);\n",
              "    border: none;\n",
              "    border-radius: 50%;\n",
              "    cursor: pointer;\n",
              "    display: none;\n",
              "    fill: var(--fill-color);\n",
              "    height: 32px;\n",
              "    padding: 0;\n",
              "    width: 32px;\n",
              "  }\n",
              "\n",
              "  .colab-df-quickchart:hover {\n",
              "    background-color: var(--hover-bg-color);\n",
              "    box-shadow: 0 1px 2px rgba(60, 64, 67, 0.3), 0 1px 3px 1px rgba(60, 64, 67, 0.15);\n",
              "    fill: var(--button-hover-fill-color);\n",
              "  }\n",
              "\n",
              "  .colab-df-quickchart-complete:disabled,\n",
              "  .colab-df-quickchart-complete:disabled:hover {\n",
              "    background-color: var(--disabled-bg-color);\n",
              "    fill: var(--disabled-fill-color);\n",
              "    box-shadow: none;\n",
              "  }\n",
              "\n",
              "  .colab-df-spinner {\n",
              "    border: 2px solid var(--fill-color);\n",
              "    border-color: transparent;\n",
              "    border-bottom-color: var(--fill-color);\n",
              "    animation:\n",
              "      spin 1s steps(1) infinite;\n",
              "  }\n",
              "\n",
              "  @keyframes spin {\n",
              "    0% {\n",
              "      border-color: transparent;\n",
              "      border-bottom-color: var(--fill-color);\n",
              "      border-left-color: var(--fill-color);\n",
              "    }\n",
              "    20% {\n",
              "      border-color: transparent;\n",
              "      border-left-color: var(--fill-color);\n",
              "      border-top-color: var(--fill-color);\n",
              "    }\n",
              "    30% {\n",
              "      border-color: transparent;\n",
              "      border-left-color: var(--fill-color);\n",
              "      border-top-color: var(--fill-color);\n",
              "      border-right-color: var(--fill-color);\n",
              "    }\n",
              "    40% {\n",
              "      border-color: transparent;\n",
              "      border-right-color: var(--fill-color);\n",
              "      border-top-color: var(--fill-color);\n",
              "    }\n",
              "    60% {\n",
              "      border-color: transparent;\n",
              "      border-right-color: var(--fill-color);\n",
              "    }\n",
              "    80% {\n",
              "      border-color: transparent;\n",
              "      border-right-color: var(--fill-color);\n",
              "      border-bottom-color: var(--fill-color);\n",
              "    }\n",
              "    90% {\n",
              "      border-color: transparent;\n",
              "      border-bottom-color: var(--fill-color);\n",
              "    }\n",
              "  }\n",
              "</style>\n",
              "\n",
              "      <script>\n",
              "        async function quickchart(key) {\n",
              "          const quickchartButtonEl =\n",
              "            document.querySelector('#' + key + ' button');\n",
              "          quickchartButtonEl.disabled = true;  // To prevent multiple clicks.\n",
              "          quickchartButtonEl.classList.add('colab-df-spinner');\n",
              "          try {\n",
              "            const charts = await google.colab.kernel.invokeFunction(\n",
              "                'suggestCharts', [key], {});\n",
              "          } catch (error) {\n",
              "            console.error('Error during call to suggestCharts:', error);\n",
              "          }\n",
              "          quickchartButtonEl.classList.remove('colab-df-spinner');\n",
              "          quickchartButtonEl.classList.add('colab-df-quickchart-complete');\n",
              "        }\n",
              "        (() => {\n",
              "          let quickchartButtonEl =\n",
              "            document.querySelector('#df-2c73f2a6-1b49-4cdd-9af4-2c8c707b275e button');\n",
              "          quickchartButtonEl.style.display =\n",
              "            google.colab.kernel.accessAllowed ? 'block' : 'none';\n",
              "        })();\n",
              "      </script>\n",
              "    </div>\n",
              "\n",
              "    </div>\n",
              "  </div>\n"
            ],
            "application/vnd.google.colaboratory.intrinsic+json": {
              "type": "dataframe",
              "variable_name": "test",
              "summary": "{\n  \"name\": \"test\",\n  \"rows\": 16281,\n  \"fields\": [\n    {\n      \"column\": \"age\",\n      \"properties\": {\n        \"dtype\": \"number\",\n        \"std\": 13,\n        \"min\": 17,\n        \"max\": 90,\n        \"num_unique_values\": 73,\n        \"samples\": [\n          18,\n          74,\n          40\n        ],\n        \"semantic_type\": \"\",\n        \"description\": \"\"\n      }\n    },\n    {\n      \"column\": \"workclass\",\n      \"properties\": {\n        \"dtype\": \"category\",\n        \"num_unique_values\": 9,\n        \"samples\": [\n          \"Without-pay\",\n          \"Local-gov\",\n          \"State-gov\"\n        ],\n        \"semantic_type\": \"\",\n        \"description\": \"\"\n      }\n    },\n    {\n      \"column\": \"fnlwgt\",\n      \"properties\": {\n        \"dtype\": \"number\",\n        \"std\": 105714,\n        \"min\": 13492,\n        \"max\": 1490400,\n        \"num_unique_values\": 12787,\n        \"samples\": [\n          98035,\n          155632,\n          34173\n        ],\n        \"semantic_type\": \"\",\n        \"description\": \"\"\n      }\n    },\n    {\n      \"column\": \"education\",\n      \"properties\": {\n        \"dtype\": \"category\",\n        \"num_unique_values\": 16,\n        \"samples\": [\n          \"11th\",\n          \"HS-grad\",\n          \"Prof-school\"\n        ],\n        \"semantic_type\": \"\",\n        \"description\": \"\"\n      }\n    },\n    {\n      \"column\": \"education_num\",\n      \"properties\": {\n        \"dtype\": \"number\",\n        \"std\": 2,\n        \"min\": 1,\n        \"max\": 16,\n        \"num_unique_values\": 16,\n        \"samples\": [\n          7,\n          9,\n          15\n        ],\n        \"semantic_type\": \"\",\n        \"description\": \"\"\n      }\n    },\n    {\n      \"column\": \"marital_status\",\n      \"properties\": {\n        \"dtype\": \"category\",\n        \"num_unique_values\": 7,\n        \"samples\": [\n          \"Never-married\",\n          \"Married-civ-spouse\",\n          \"Married-spouse-absent\"\n        ],\n        \"semantic_type\": \"\",\n        \"description\": \"\"\n      }\n    },\n    {\n      \"column\": \"occupation\",\n      \"properties\": {\n        \"dtype\": \"category\",\n        \"num_unique_values\": 15,\n        \"samples\": [\n          \"Tech-support\",\n          \"Priv-house-serv\",\n          \"Machine-op-inspct\"\n        ],\n        \"semantic_type\": \"\",\n        \"description\": \"\"\n      }\n    },\n    {\n      \"column\": \"relationship\",\n      \"properties\": {\n        \"dtype\": \"category\",\n        \"num_unique_values\": 6,\n        \"samples\": [\n          \"Own-child\",\n          \"Husband\",\n          \"Other-relative\"\n        ],\n        \"semantic_type\": \"\",\n        \"description\": \"\"\n      }\n    },\n    {\n      \"column\": \"race\",\n      \"properties\": {\n        \"dtype\": \"category\",\n        \"num_unique_values\": 5,\n        \"samples\": [\n          \"White\",\n          \"Amer-Indian-Eskimo\",\n          \"Asian-Pac-Islander\"\n        ],\n        \"semantic_type\": \"\",\n        \"description\": \"\"\n      }\n    },\n    {\n      \"column\": \"sex\",\n      \"properties\": {\n        \"dtype\": \"category\",\n        \"num_unique_values\": 2,\n        \"samples\": [\n          \"Female\",\n          \"Male\"\n        ],\n        \"semantic_type\": \"\",\n        \"description\": \"\"\n      }\n    },\n    {\n      \"column\": \"capital_gain\",\n      \"properties\": {\n        \"dtype\": \"number\",\n        \"std\": 7583,\n        \"min\": 0,\n        \"max\": 99999,\n        \"num_unique_values\": 113,\n        \"samples\": [\n          34095,\n          7298\n        ],\n        \"semantic_type\": \"\",\n        \"description\": \"\"\n      }\n    },\n    {\n      \"column\": \"capital_loss\",\n      \"properties\": {\n        \"dtype\": \"number\",\n        \"std\": 403,\n        \"min\": 0,\n        \"max\": 3770,\n        \"num_unique_values\": 82,\n        \"samples\": [\n          1258,\n          0\n        ],\n        \"semantic_type\": \"\",\n        \"description\": \"\"\n      }\n    },\n    {\n      \"column\": \"hours_per_week\",\n      \"properties\": {\n        \"dtype\": \"number\",\n        \"std\": 12,\n        \"min\": 1,\n        \"max\": 99,\n        \"num_unique_values\": 89,\n        \"samples\": [\n          17,\n          23\n        ],\n        \"semantic_type\": \"\",\n        \"description\": \"\"\n      }\n    },\n    {\n      \"column\": \"native_country\",\n      \"properties\": {\n        \"dtype\": \"category\",\n        \"num_unique_values\": 41,\n        \"samples\": [\n          \"Italy\",\n          \"Vietnam\"\n        ],\n        \"semantic_type\": \"\",\n        \"description\": \"\"\n      }\n    },\n    {\n      \"column\": \"income\",\n      \"properties\": {\n        \"dtype\": \"category\",\n        \"num_unique_values\": 2,\n        \"samples\": [\n          \">50K.\",\n          \"<=50K.\"\n        ],\n        \"semantic_type\": \"\",\n        \"description\": \"\"\n      }\n    }\n  ]\n}"
            }
          },
          "metadata": {},
          "execution_count": 5
        }
      ],
      "source": [
        "test.head(2)"
      ]
    },
    {
      "cell_type": "markdown",
      "metadata": {
        "id": "GsOjaTWEfRNi"
      },
      "source": [
        "---"
      ]
    },
    {
      "cell_type": "markdown",
      "source": [
        "  \n",
        "<center><h1><font color=\"#e91e63\">Data Exploration</font></h1></center>\n",
        "\n",
        "\n",
        "---\n",
        "\n",
        "\n",
        "\n",
        "---\n",
        "\n"
      ],
      "metadata": {
        "id": "VhyrM1QHTYyF"
      }
    },
    {
      "cell_type": "markdown",
      "metadata": {
        "id": "2kEGW7TehSPX"
      },
      "source": [
        "  \n",
        "<center><h1><font color=\"#e91e63\">1 . Verify columns & data types</font></h1></center>\n"
      ]
    },
    {
      "cell_type": "code",
      "execution_count": null,
      "metadata": {
        "colab": {
          "base_uri": "https://localhost:8080/"
        },
        "id": "zmLHGDDZfJCJ",
        "outputId": "15097a80-efe2-4f5b-e671-c0217a87a378"
      },
      "outputs": [
        {
          "output_type": "stream",
          "name": "stdout",
          "text": [
            "age                int64\n",
            "workclass         object\n",
            "fnlwgt             int64\n",
            "education         object\n",
            "education_num      int64\n",
            "marital_status    object\n",
            "occupation        object\n",
            "relationship      object\n",
            "race              object\n",
            "sex               object\n",
            "capital_gain       int64\n",
            "capital_loss       int64\n",
            "hours_per_week     int64\n",
            "native_country    object\n",
            "income            object\n",
            "dtype: object\n"
          ]
        }
      ],
      "source": [
        "print(train.dtypes)"
      ]
    },
    {
      "cell_type": "markdown",
      "metadata": {
        "id": "hC-KGV2DnWVq"
      },
      "source": [
        "The numeric columns (age, fnlwgt, education_num, capital_gain, capital_loss, hours_per_week) were correctly read as int64.  \n",
        "The categorical columns (workclass, education , marital_status , occupation , relationship , race , sex , native_country, income) were read as object type, which is expected for string labels.\n",
        "\n",
        "Therefore, the data types match the documentation."
      ]
    },
    {
      "cell_type": "markdown",
      "metadata": {
        "id": "Mr1ZcEtDopEE"
      },
      "source": [
        "\n",
        "\n",
        "---\n",
        "\n",
        "\n",
        "\n",
        "---\n",
        "\n"
      ]
    },
    {
      "cell_type": "markdown",
      "metadata": {
        "id": "Tc4BnLnSfQwW"
      },
      "source": [
        "<center><h1><font color=\"#e91e63\">2 . Handling and Counting Missing Values </font></h1></center>"
      ]
    },
    {
      "cell_type": "markdown",
      "metadata": {
        "id": "pSkZBdc9rUk-"
      },
      "source": [
        "Missing values in this dataset are coded as \" ?  \"  \n",
        "\n",
        "I converted all \"?\" to NaN .  \n",
        "\n",
        "**In the train data:**  \n",
        "workclass: 1836  \n",
        "occupation: 1843  \n",
        "native_country: 583    \n",
        "\n",
        "\n",
        "**In the test data:**  \n",
        "workclass: 963  \n",
        "occupation: 966  \n",
        "native_country: 274  "
      ]
    },
    {
      "cell_type": "code",
      "execution_count": null,
      "metadata": {
        "colab": {
          "base_uri": "https://localhost:8080/"
        },
        "id": "S-fh0wDvqvQ8",
        "outputId": "3006d649-07ee-4b8c-8640-76f73fcbe0ba"
      },
      "outputs": [
        {
          "output_type": "stream",
          "name": "stdout",
          "text": [
            "age                  0\n",
            "workclass         1836\n",
            "fnlwgt               0\n",
            "education            0\n",
            "education_num        0\n",
            "marital_status       0\n",
            "occupation        1843\n",
            "relationship         0\n",
            "race                 0\n",
            "sex                  0\n",
            "capital_gain         0\n",
            "capital_loss         0\n",
            "hours_per_week       0\n",
            "native_country     583\n",
            "income               0\n",
            "dtype: int64 \n",
            "\n",
            "\n",
            "\n",
            "\n",
            "\n",
            "age                 0\n",
            "workclass         963\n",
            "fnlwgt              0\n",
            "education           0\n",
            "education_num       0\n",
            "marital_status      0\n",
            "occupation        966\n",
            "relationship        0\n",
            "race                0\n",
            "sex                 0\n",
            "capital_gain        0\n",
            "capital_loss        0\n",
            "hours_per_week      0\n",
            "native_country    274\n",
            "income              0\n",
            "dtype: int64\n"
          ]
        }
      ],
      "source": [
        "train = train.replace(\"?\", np.nan)\n",
        "test  = test.replace(\"?\", np.nan)\n",
        "# Count missing values in each column\n",
        "print(train.isna().sum(),\"\\n\"*5)\n",
        "print(test.isna().sum())"
      ]
    },
    {
      "cell_type": "markdown",
      "metadata": {
        "id": "VgUO1wDlv22M"
      },
      "source": [
        "<center><h1><font color=\"#e91e63\">3 . Exploring and Transforming capital_gain and capital_loss </font></h1></center>"
      ]
    },
    {
      "cell_type": "markdown",
      "metadata": {
        "id": "Iysmfi4j18xp"
      },
      "source": [
        "**Both variables are skewed: most values are 0, with a few very high outliers.**  \n",
        "\n",
        "**Because of this, it is reasonable to transform them into categorical variables.**  \n",
        "\n",
        "**I created binary variables (has_capital_gain and has_capital_loss) indicating whether a person had any gain or loss. The majority fall into the '0' category.**"
      ]
    },
    {
      "cell_type": "code",
      "execution_count": null,
      "metadata": {
        "colab": {
          "base_uri": "https://localhost:8080/",
          "height": 803
        },
        "id": "jxUY-5WGrYU8",
        "outputId": "8c03bfbe-5802-4d38-e4fe-3421adbd5f8e"
      },
      "outputs": [
        {
          "output_type": "display_data",
          "data": {
            "text/plain": [
              "<Figure size 600x400 with 1 Axes>"
            ],
            "image/png": "[encoded data removed]"
          },
          "metadata": {}
        },
        {
          "output_type": "display_data",
          "data": {
            "text/plain": [
              "<Figure size 600x400 with 1 Axes>"
            ],
            "image/png": "[encoded data removed]"
          },
          "metadata": {}
        }
      ],
      "source": [
        "# capital_gain\n",
        "plt.figure(figsize=(6,4))\n",
        "plt.hist(train[\"capital_gain\"], bins=50)\n",
        "plt.title(\"Distribution of capital_gain\")\n",
        "plt.xlabel(\"capital_gain\")\n",
        "plt.ylabel(\"Count\")\n",
        "plt.show()\n",
        "\n",
        "# capital_loss\n",
        "plt.figure(figsize=(6,4))\n",
        "plt.hist(train[\"capital_loss\"], bins=50)\n",
        "plt.title(\"Distribution of capital_loss\")\n",
        "plt.xlabel(\"capital_loss\")\n",
        "plt.ylabel(\"Count\")\n",
        "plt.show()"
      ]
    },
    {
      "cell_type": "code",
      "execution_count": null,
      "metadata": {
        "colab": {
          "base_uri": "https://localhost:8080/"
        },
        "id": "zzQM-Mt46KpI",
        "outputId": "79b7c719-1b6e-4253-bd6b-d68d7fe7f373"
      },
      "outputs": [
        {
          "output_type": "stream",
          "name": "stdout",
          "text": [
            "has_capital_gain counts:\n",
            "has_capital_gain\n",
            "0    29849\n",
            "1     2712\n",
            "\n",
            "has_capital_loss counts:\n",
            "has_capital_loss\n",
            "0    31042\n",
            "1     1519\n"
          ]
        }
      ],
      "source": [
        "train[\"has_capital_gain\"] = (train[\"capital_gain\"] > 0).astype(int)\n",
        "train[\"has_capital_loss\"] = (train[\"capital_loss\"] > 0).astype(int)\n",
        "\n",
        "print(\"has_capital_gain counts:\")\n",
        "print(train[\"has_capital_gain\"].value_counts().to_string())\n",
        "\n",
        "print(\"\\nhas_capital_loss counts:\")\n",
        "print(train[\"has_capital_loss\"].value_counts().to_string())\n"
      ]
    },
    {
      "cell_type": "code",
      "execution_count": null,
      "metadata": {
        "colab": {
          "base_uri": "https://localhost:8080/"
        },
        "id": "sheVNyAk8JpF",
        "outputId": "49daa0f2-207b-4520-f390-0578127ecdf2"
      },
      "outputs": [
        {
          "output_type": "stream",
          "name": "stdout",
          "text": [
            "   has_capital_gain  has_capital_loss\n",
            "0             29849             31042\n",
            "1              2712              1519\n"
          ]
        }
      ],
      "source": [
        "#I created binary indicators (has_capital_gain, has_capital_loss)to determine whether an individual had any gain/loss.\n",
        "dist_table = pd.DataFrame({\"has_capital_gain\": train[\"has_capital_gain\"].value_counts(),\"has_capital_loss\": train[\"has_capital_loss\"].value_counts()})\n",
        "print(dist_table)"
      ]
    },
    {
      "cell_type": "code",
      "execution_count": null,
      "metadata": {
        "colab": {
          "base_uri": "https://localhost:8080/",
          "height": 793
        },
        "id": "7zNyHQWT9BZo",
        "outputId": "5625323d-53c2-4721-a2c6-7a2cc0fc677c"
      },
      "outputs": [
        {
          "output_type": "display_data",
          "data": {
            "text/plain": [
              "<Figure size 600x400 with 1 Axes>"
            ],
            "image/png": "[encoded data removed]"
          },
          "metadata": {}
        },
        {
          "output_type": "display_data",
          "data": {
            "text/plain": [
              "<Figure size 600x400 with 1 Axes>"
            ],
            "image/png": "[encoded data removed]"
          },
          "metadata": {}
        }
      ],
      "source": [
        "#another way of presenting the resut using a histogram\n",
        "\n",
        "plt.figure(figsize=(6, 4))\n",
        "train[\"has_capital_gain\"].value_counts().sort_index().plot(kind=\"bar\")\n",
        "plt.title(\"has_capital_gain\")\n",
        "plt.xlabel(\"Value\")\n",
        "plt.ylabel(\"Count\")\n",
        "plt.show()\n",
        "\n",
        "plt.figure(figsize=(6, 4))\n",
        "train[\"has_capital_loss\"].value_counts().sort_index().plot(kind=\"bar\")\n",
        "plt.title(\"has_capital_loss\")\n",
        "plt.xlabel(\"Value\")\n",
        "plt.ylabel(\"Count\")\n",
        "plt.show()"
      ]
    },
    {
      "cell_type": "markdown",
      "metadata": {
        "id": "cqvgDZHGCVab"
      },
      "source": [
        "<center><h1><font color=\"#e91e63\">4-5 . Exploring the Distribution of fnlwgt and Identifying Outliers </font></h1></center>"
      ]
    },
    {
      "cell_type": "code",
      "execution_count": null,
      "metadata": {
        "colab": {
          "base_uri": "https://localhost:8080/",
          "height": 410
        },
        "id": "AoKo4cVp_2UU",
        "outputId": "c60d8886-b0f1-4599-af5b-96709587e49b"
      },
      "outputs": [
        {
          "output_type": "display_data",
          "data": {
            "text/plain": [
              "<Figure size 600x400 with 1 Axes>"
            ],
            "image/png": "[encoded data removed]"
          },
          "metadata": {}
        }
      ],
      "source": [
        "# Histogram (raw)\n",
        "plt.figure(figsize=(6,4))\n",
        "plt.hist(train[\"fnlwgt\"].dropna(), bins=50)\n",
        "plt.title(\"Distribution of fnlwgt\")\n",
        "plt.xlabel(\"fnlwgt\")\n",
        "plt.ylabel(\"Count\")\n",
        "plt.show()"
      ]
    },
    {
      "cell_type": "markdown",
      "metadata": {
        "id": "SlQ6pS1TcukM"
      },
      "source": []
    },
    {
      "cell_type": "code",
      "execution_count": null,
      "metadata": {
        "colab": {
          "base_uri": "https://localhost:8080/",
          "height": 571
        },
        "id": "1ZYv1OWCblb0",
        "outputId": "3cf749c4-0660-4dbe-ddf8-32029bad1954"
      },
      "outputs": [
        {
          "output_type": "display_data",
          "data": {
            "text/plain": [
              "<Figure size 600x400 with 1 Axes>"
            ],
            "image/png": "[encoded data removed]"
          },
          "metadata": {}
        },
        {
          "output_type": "stream",
          "name": "stdout",
          "text": [
            "          count       mean        std      min        25%       50%  \\\n",
            "sex                                                                   \n",
            "Female  10771.0  185746.31  102986.08  12285.0  117363.00  176077.0   \n",
            "Male    21790.0  191771.45  106740.70  13769.0  118200.75  180140.0   \n",
            "\n",
            "              75%        max  \n",
            "sex                           \n",
            "Female  228331.50  1484705.0  \n",
            "Male    241146.25  1455435.0  \n"
          ]
        }
      ],
      "source": [
        "\n",
        "# Boxplot by sex\n",
        "plt.figure(figsize=(6,4))\n",
        "sns.boxplot(data=train, x=\"fnlwgt\", y=\"sex\" , orient=\"h\")\n",
        "plt.title(\"fnlwgt by sex\")\n",
        "plt.show()\n",
        "\n",
        "# Numeric summary\n",
        "print(train.groupby(\"sex\")[\"fnlwgt\"].describe().round(2))"
      ]
    },
    {
      "cell_type": "markdown",
      "source": [
        "the fnlwgt values are not balanced, they are really pushed to the right side with alot of big numbers showing up. when i look at men and women, the shape is almost the same, their median and spread looks close. i see many dots outside the boxplot which means alot of outliers, but this is normal in survey weights cause some small groups get really large weights. for my work i decided to keep them, just mention they are there."
      ],
      "metadata": {
        "id": "Im_JrAH6V9lW"
      }
    },
    {
      "cell_type": "code",
      "execution_count": null,
      "metadata": {
        "id": "-Yxgkbqfcv6e"
      },
      "outputs": [],
      "source": []
    },
    {
      "cell_type": "markdown",
      "source": [
        "# <center><h1><font color=\"#e91e63\">Corrolation </font></h1></center>\n",
        "\n",
        "\n",
        "---\n",
        "\n",
        "\n",
        "\n",
        "---\n",
        "\n",
        "\n",
        "\n",
        "---\n",
        "\n"
      ],
      "metadata": {
        "id": "8X5AOLz0bFd5"
      }
    },
    {
      "cell_type": "markdown",
      "source": [
        "\n",
        "\n",
        " <center><h1><font color=\"#e91e63\">1. Assessing Correlations Between Age, Education, and Working Hours </font></h1></center>\n"
      ],
      "metadata": {
        "id": "vjiLPNU4UcnU"
      }
    },
    {
      "cell_type": "code",
      "source": [
        "cols = [\"age\", \"education_num\", \"hours_per_week\"]\n",
        "corr_matrix = train[cols].corr()\n",
        "print(corr_matrix)"
      ],
      "metadata": {
        "colab": {
          "base_uri": "https://localhost:8080/"
        },
        "id": "rGJi39c8bF_-",
        "outputId": "563ab6e7-7b15-4846-9727-acd21f513f70"
      },
      "execution_count": null,
      "outputs": [
        {
          "output_type": "stream",
          "name": "stdout",
          "text": [
            "                     age  education_num  hours_per_week\n",
            "age             1.000000       0.036527        0.068756\n",
            "education_num   0.036527       1.000000        0.148123\n",
            "hours_per_week  0.068756       0.148123        1.000000\n"
          ]
        }
      ]
    },
    {
      "cell_type": "markdown",
      "source": [
        "i checked the correlations between age, education_num and hours_per_week. most of them are very close to 0, which means no real relationship. the only one that shows some connection is education_num with hours_per_week (r = 0.15). this is above the 0.1 , so i will test it more. the others are too weak to consider."
      ],
      "metadata": {
        "id": "W0jh2E-acx01"
      }
    },
    {
      "cell_type": "markdown",
      "source": [
        "\n",
        "\n",
        " <center><h1><font color=\"#e91e63\">2. Statistical Significance Test for Correlation Between Education and Working Hours </font></h1></center>"
      ],
      "metadata": {
        "id": "iUnnHaQVUp_W"
      }
    },
    {
      "cell_type": "code",
      "source": [
        "import numpy as np\n",
        "from scipy import stats\n",
        "x = train[\"education_num\"].to_numpy()\n",
        "y = train[\"hours_per_week\"].to_numpy()\n",
        "\n",
        "# to find the answer we either do the math step by step or we can use pearsonr which will give us the answer directly\n",
        "\n",
        "r, pval = stats.pearsonr(x, y)\n",
        "\n",
        "n=len(x)\n",
        "t_stat= r * np.sqrt(n - 2) / np.sqrt(1 - r**2)\n",
        "dof = n-2 # degrees of freedom\n",
        "\n",
        "print(f\"coefficient of corrolation = {round(r,3)}\")\n",
        "print(f\"p-value = {pval}\")                              #I didnt round it because it was showing a zero\n",
        "print(f\"t-statistic = {round(t_stat,3)}\")\n",
        "print(f\"degrees of freedom = {dof}\")"
      ],
      "metadata": {
        "id": "Po98GAiTbGdy",
        "colab": {
          "base_uri": "https://localhost:8080/"
        },
        "outputId": "1571d207-b1b4-4176-b115-494543c60ddc"
      },
      "execution_count": null,
      "outputs": [
        {
          "output_type": "stream",
          "name": "stdout",
          "text": [
            "coefficient of corrolation = 0.148\n",
            "p-value = 4.236647478995814e-159\n",
            "t-statistic = 27.026\n",
            "degrees of freedom = 32559\n"
          ]
        }
      ]
    },
    {
      "cell_type": "markdown",
      "source": [
        "the correlation between education_num and hours_per_week came out r = 0.15. i tested it with pearson and the t-value was very large (about 27) because the sample size is huge. the p-value is super small (basically zero), so i reject the null. this means the relationship is statistically real, but the effect itself is weak. in other words, people with more education tend to work a little more hours, but it’s not a strong link."
      ],
      "metadata": {
        "id": "OIEtefdEd9j5"
      }
    },
    {
      "cell_type": "markdown",
      "source": [
        "\n",
        "\n",
        " <center><h1><font color=\"#e91e63\">3.\n",
        "Comparing Correlation Between Age and Education by Sex </font></h1></center>\n"
      ],
      "metadata": {
        "id": "w3XeAOMzf30L"
      }
    },
    {
      "cell_type": "code",
      "source": [
        "from scipy import stats\n",
        "male = train[train[\"sex\"]==\"Male\"][[\"age\", \"education_num\"]]\n",
        "female = train[train[\"sex\"]==\"Female\"][[\"age\", \"education_num\"]]\n",
        "male.head()\n"
      ],
      "metadata": {
        "colab": {
          "base_uri": "https://localhost:8080/",
          "height": 206
        },
        "id": "us14Tw46X6DW",
        "outputId": "34cd364a-6266-422a-922e-d5009ae5955a"
      },
      "execution_count": null,
      "outputs": [
        {
          "output_type": "execute_result",
          "data": {
            "text/plain": [
              "   age  education_num\n",
              "0   39             13\n",
              "1   50             13\n",
              "2   38              9\n",
              "3   53              7\n",
              "7   52              9"
            ],
            "text/html": [
              "\n",
              "  <div id=\"df-ebb57b40-df41-4064-b003-d3a8bb413ea3\" class=\"colab-df-container\">\n",
              "    <div>\n",
              "<style scoped>\n",
              "    .dataframe tbody tr th:only-of-type {\n",
              "        vertical-align: middle;\n",
              "    }\n",
              "\n",
              "    .dataframe tbody tr th {\n",
              "        vertical-align: top;\n",
              "    }\n",
              "\n",
              "    .dataframe thead th {\n",
              "        text-align: right;\n",
              "    }\n",
              "</style>\n",
              "<table border=\"1\" class=\"dataframe\">\n",
              "  <thead>\n",
              "    <tr style=\"text-align: right;\">\n",
              "      <th></th>\n",
              "      <th>age</th>\n",
              "      <th>education_num</th>\n",
              "    </tr>\n",
              "  </thead>\n",
              "  <tbody>\n",
              "    <tr>\n",
              "      <th>0</th>\n",
              "      <td>39</td>\n",
              "      <td>13</td>\n",
              "    </tr>\n",
              "    <tr>\n",
              "      <th>1</th>\n",
              "      <td>50</td>\n",
              "      <td>13</td>\n",
              "    </tr>\n",
              "    <tr>\n",
              "      <th>2</th>\n",
              "      <td>38</td>\n",
              "      <td>9</td>\n",
              "    </tr>\n",
              "    <tr>\n",
              "      <th>3</th>\n",
              "      <td>53</td>\n",
              "      <td>7</td>\n",
              "    </tr>\n",
              "    <tr>\n",
              "      <th>7</th>\n",
              "      <td>52</td>\n",
              "      <td>9</td>\n",
              "    </tr>\n",
              "  </tbody>\n",
              "</table>\n",
              "</div>\n",
              "    <div class=\"colab-df-buttons\">\n",
              "\n",
              "  <div class=\"colab-df-container\">\n",
              "    <button class=\"colab-df-convert\" onclick=\"convertToInteractive('df-ebb57b40-df41-4064-b003-d3a8bb413ea3')\"\n",
              "            title=\"Convert this dataframe to an interactive table.\"\n",
              "            style=\"display:none;\">\n",
              "\n",
              "  <svg xmlns=\"http://www.w3.org/2000/svg\" height=\"24px\" viewBox=\"0 -960 960 960\">\n",
              "    <path d=\"M120-120v-720h720v720H120Zm60-500h600v-160H180v160Zm220 220h160v-160H400v160Zm0 220h160v-160H400v160ZM180-400h160v-160H180v160Zm440 0h160v-160H620v160ZM180-180h160v-160H180v160Zm440 0h160v-160H620v160Z\"/>\n",
              "  </svg>\n",
              "    </button>\n",
              "\n",
              "  <style>\n",
              "    .colab-df-container {\n",
              "      display:flex;\n",
              "      gap: 12px;\n",
              "    }\n",
              "\n",
              "    .colab-df-convert {\n",
              "      background-color: #E8F0FE;\n",
              "      border: none;\n",
              "      border-radius: 50%;\n",
              "      cursor: pointer;\n",
              "      display: none;\n",
              "      fill: #1967D2;\n",
              "      height: 32px;\n",
              "      padding: 0 0 0 0;\n",
              "      width: 32px;\n",
              "    }\n",
              "\n",
              "    .colab-df-convert:hover {\n",
              "      background-color: #E2EBFA;\n",
              "      box-shadow: 0px 1px 2px rgba(60, 64, 67, 0.3), 0px 1px 3px 1px rgba(60, 64, 67, 0.15);\n",
              "      fill: #174EA6;\n",
              "    }\n",
              "\n",
              "    .colab-df-buttons div {\n",
              "      margin-bottom: 4px;\n",
              "    }\n",
              "\n",
              "    [theme=dark] .colab-df-convert {\n",
              "      background-color: #3B4455;\n",
              "      fill: #D2E3FC;\n",
              "    }\n",
              "\n",
              "    [theme=dark] .colab-df-convert:hover {\n",
              "      background-color: #434B5C;\n",
              "      box-shadow: 0px 1px 3px 1px rgba(0, 0, 0, 0.15);\n",
              "      filter: drop-shadow(0px 1px 2px rgba(0, 0, 0, 0.3));\n",
              "      fill: #FFFFFF;\n",
              "    }\n",
              "  </style>\n",
              "\n",
              "    <script>\n",
              "      const buttonEl =\n",
              "        document.querySelector('#df-ebb57b40-df41-4064-b003-d3a8bb413ea3 button.colab-df-convert');\n",
              "      buttonEl.style.display =\n",
              "        google.colab.kernel.accessAllowed ? 'block' : 'none';\n",
              "\n",
              "      async function convertToInteractive(key) {\n",
              "        const element = document.querySelector('#df-ebb57b40-df41-4064-b003-d3a8bb413ea3');\n",
              "        const dataTable =\n",
              "          await google.colab.kernel.invokeFunction('convertToInteractive',\n",
              "                                                    [key], {});\n",
              "        if (!dataTable) return;\n",
              "\n",
              "        const docLinkHtml = 'Like what you see? Visit the ' +\n",
              "          '<a target=\"_blank\" href=https://colab.research.google.com/notebooks/data_table.ipynb>data table notebook</a>'\n",
              "          + ' to learn more about interactive tables.';\n",
              "        element.innerHTML = '';\n",
              "        dataTable['output_type'] = 'display_data';\n",
              "        await google.colab.output.renderOutput(dataTable, element);\n",
              "        const docLink = document.createElement('div');\n",
              "        docLink.innerHTML = docLinkHtml;\n",
              "        element.appendChild(docLink);\n",
              "      }\n",
              "    </script>\n",
              "  </div>\n",
              "\n",
              "\n",
              "    <div id=\"df-863b8818-b22b-44ee-8baa-74faeff371b6\">\n",
              "      <button class=\"colab-df-quickchart\" onclick=\"quickchart('df-863b8818-b22b-44ee-8baa-74faeff371b6')\"\n",
              "                title=\"Suggest charts\"\n",
              "                style=\"display:none;\">\n",
              "\n",
              "<svg xmlns=\"http://www.w3.org/2000/svg\" height=\"24px\"viewBox=\"0 0 24 24\"\n",
              "     width=\"24px\">\n",
              "    <g>\n",
              "        <path d=\"M19 3H5c-1.1 0-2 .9-2 2v14c0 1.1.9 2 2 2h14c1.1 0 2-.9 2-2V5c0-1.1-.9-2-2-2zM9 17H7v-7h2v7zm4 0h-2V7h2v10zm4 0h-2v-4h2v4z\"/>\n",
              "    </g>\n",
              "</svg>\n",
              "      </button>\n",
              "\n",
              "<style>\n",
              "  .colab-df-quickchart {\n",
              "      --bg-color: #E8F0FE;\n",
              "      --fill-color: #1967D2;\n",
              "      --hover-bg-color: #E2EBFA;\n",
              "      --hover-fill-color: #174EA6;\n",
              "      --disabled-fill-color: #AAA;\n",
              "      --disabled-bg-color: #DDD;\n",
              "  }\n",
              "\n",
              "  [theme=dark] .colab-df-quickchart {\n",
              "      --bg-color: #3B4455;\n",
              "      --fill-color: #D2E3FC;\n",
              "      --hover-bg-color: #434B5C;\n",
              "      --hover-fill-color: #FFFFFF;\n",
              "      --disabled-bg-color: #3B4455;\n",
              "      --disabled-fill-color: #666;\n",
              "  }\n",
              "\n",
              "  .colab-df-quickchart {\n",
              "    background-color: var(--bg-color);\n",
              "    border: none;\n",
              "    border-radius: 50%;\n",
              "    cursor: pointer;\n",
              "    display: none;\n",
              "    fill: var(--fill-color);\n",
              "    height: 32px;\n",
              "    padding: 0;\n",
              "    width: 32px;\n",
              "  }\n",
              "\n",
              "  .colab-df-quickchart:hover {\n",
              "    background-color: var(--hover-bg-color);\n",
              "    box-shadow: 0 1px 2px rgba(60, 64, 67, 0.3), 0 1px 3px 1px rgba(60, 64, 67, 0.15);\n",
              "    fill: var(--button-hover-fill-color);\n",
              "  }\n",
              "\n",
              "  .colab-df-quickchart-complete:disabled,\n",
              "  .colab-df-quickchart-complete:disabled:hover {\n",
              "    background-color: var(--disabled-bg-color);\n",
              "    fill: var(--disabled-fill-color);\n",
              "    box-shadow: none;\n",
              "  }\n",
              "\n",
              "  .colab-df-spinner {\n",
              "    border: 2px solid var(--fill-color);\n",
              "    border-color: transparent;\n",
              "    border-bottom-color: var(--fill-color);\n",
              "    animation:\n",
              "      spin 1s steps(1) infinite;\n",
              "  }\n",
              "\n",
              "  @keyframes spin {\n",
              "    0% {\n",
              "      border-color: transparent;\n",
              "      border-bottom-color: var(--fill-color);\n",
              "      border-left-color: var(--fill-color);\n",
              "    }\n",
              "    20% {\n",
              "      border-color: transparent;\n",
              "      border-left-color: var(--fill-color);\n",
              "      border-top-color: var(--fill-color);\n",
              "    }\n",
              "    30% {\n",
              "      border-color: transparent;\n",
              "      border-left-color: var(--fill-color);\n",
              "      border-top-color: var(--fill-color);\n",
              "      border-right-color: var(--fill-color);\n",
              "    }\n",
              "    40% {\n",
              "      border-color: transparent;\n",
              "      border-right-color: var(--fill-color);\n",
              "      border-top-color: var(--fill-color);\n",
              "    }\n",
              "    60% {\n",
              "      border-color: transparent;\n",
              "      border-right-color: var(--fill-color);\n",
              "    }\n",
              "    80% {\n",
              "      border-color: transparent;\n",
              "      border-right-color: var(--fill-color);\n",
              "      border-bottom-color: var(--fill-color);\n",
              "    }\n",
              "    90% {\n",
              "      border-color: transparent;\n",
              "      border-bottom-color: var(--fill-color);\n",
              "    }\n",
              "  }\n",
              "</style>\n",
              "\n",
              "      <script>\n",
              "        async function quickchart(key) {\n",
              "          const quickchartButtonEl =\n",
              "            document.querySelector('#' + key + ' button');\n",
              "          quickchartButtonEl.disabled = true;  // To prevent multiple clicks.\n",
              "          quickchartButtonEl.classList.add('colab-df-spinner');\n",
              "          try {\n",
              "            const charts = await google.colab.kernel.invokeFunction(\n",
              "                'suggestCharts', [key], {});\n",
              "          } catch (error) {\n",
              "            console.error('Error during call to suggestCharts:', error);\n",
              "          }\n",
              "          quickchartButtonEl.classList.remove('colab-df-spinner');\n",
              "          quickchartButtonEl.classList.add('colab-df-quickchart-complete');\n",
              "        }\n",
              "        (() => {\n",
              "          let quickchartButtonEl =\n",
              "            document.querySelector('#df-863b8818-b22b-44ee-8baa-74faeff371b6 button');\n",
              "          quickchartButtonEl.style.display =\n",
              "            google.colab.kernel.accessAllowed ? 'block' : 'none';\n",
              "        })();\n",
              "      </script>\n",
              "    </div>\n",
              "\n",
              "    </div>\n",
              "  </div>\n"
            ],
            "application/vnd.google.colaboratory.intrinsic+json": {
              "type": "dataframe",
              "variable_name": "male",
              "summary": "{\n  \"name\": \"male\",\n  \"rows\": 21790,\n  \"fields\": [\n    {\n      \"column\": \"age\",\n      \"properties\": {\n        \"dtype\": \"number\",\n        \"std\": 13,\n        \"min\": 17,\n        \"max\": 90,\n        \"num_unique_values\": 72,\n        \"samples\": [\n          52,\n          88,\n          23\n        ],\n        \"semantic_type\": \"\",\n        \"description\": \"\"\n      }\n    },\n    {\n      \"column\": \"education_num\",\n      \"properties\": {\n        \"dtype\": \"number\",\n        \"std\": 2,\n        \"min\": 1,\n        \"max\": 16,\n        \"num_unique_values\": 16,\n        \"samples\": [\n          13,\n          9,\n          11\n        ],\n        \"semantic_type\": \"\",\n        \"description\": \"\"\n      }\n    }\n  ]\n}"
            }
          },
          "metadata": {},
          "execution_count": 19
        }
      ]
    },
    {
      "cell_type": "code",
      "source": [
        "correlation_male , pval_male = stats.pearsonr(male[\"age\"],male[\"education_num\"])\n",
        "correlation_female , pval_female = stats.pearsonr(female[\"age\"],female[\"education_num\"])\n",
        "\n",
        "print(f\"coefficient of corrolation of males = {correlation_male} \")\n",
        "print(f\"coefficient of corrolation of females = {correlation_female} \")\n",
        "print(f\"p-value of males = {pval_male} \")\n",
        "print(f\"p-value of females = {pval_female} \")\n",
        "print(f\"male n= {len(male)}\")\n",
        "print(f\"female n= {len(female)}\")"
      ],
      "metadata": {
        "colab": {
          "base_uri": "https://localhost:8080/"
        },
        "id": "_DzGP91kg-FB",
        "outputId": "9da0a356-8c69-4706-f3ec-0a3745b434f1"
      },
      "execution_count": null,
      "outputs": [
        {
          "output_type": "stream",
          "name": "stdout",
          "text": [
            "coefficient of corrolation of males = 0.060486409198268254 \n",
            "coefficient of corrolation of females = -0.017899243935447697 \n",
            "p-value of males = 4.022986830139681e-19 \n",
            "p-value of females = 0.06322895030880603 \n",
            "male n= 21790\n",
            "female n= 10771\n"
          ]
        }
      ]
    },
    {
      "cell_type": "markdown",
      "source": [
        "when i split the data, the correlation between age and education for men was like 0.06, very small but with so many people it came out significant. for women the correlation was almost zero (-0.018) and the p-value was bigger than 0.05, so not significant. overall, the link between age and education is basically weak or absent, which makes sense since education is mostly fixed when you’re young."
      ],
      "metadata": {
        "id": "XkLktVBBk__d"
      }
    },
    {
      "cell_type": "markdown",
      "source": [
        " <center><h1><font color=\"#e91e63\">4. Covariance Between Education and Working Hours </font></h1></center>"
      ],
      "metadata": {
        "id": "ncH2Wm7clNTV"
      }
    },
    {
      "cell_type": "code",
      "source": [
        "cols = [\"education_num\", \"hours_per_week\"]\n",
        "cov_matrix = train[cols].dropna().cov()\n",
        "print(cov_matrix)"
      ],
      "metadata": {
        "colab": {
          "base_uri": "https://localhost:8080/"
        },
        "id": "-6YXVP1mhyEK",
        "outputId": "7679f645-9fbf-41d8-de94-7e7dc6d37ba8"
      },
      "execution_count": null,
      "outputs": [
        {
          "output_type": "stream",
          "name": "stdout",
          "text": [
            "                education_num  hours_per_week\n",
            "education_num        6.618890        4.705338\n",
            "hours_per_week       4.705338      152.458995\n"
          ]
        }
      ]
    },
    {
      "cell_type": "markdown",
      "source": [
        "the covariance matrix shows the variance of each variable on the diagonal and their joint covariance diagonal. education_num variance is around 6.6 which is small since the values only go from 1 to 16. hours_per_week variance looks bigger (152) but that's fine because variance is in squared units. if we take the square root it's about 12 hours, so most people are around (+ or -) 12 hours from the average work week. the covariance between education and hours is about 4.7, positive but small, which means people with more education tend to work a bit more hours, but the link is weak."
      ],
      "metadata": {
        "id": "5iHF_d4HpeA6"
      }
    },
    {
      "cell_type": "markdown",
      "source": [
        "# <center><h1><font color=\"#e91e63\">Regression </font></h1></center>"
      ],
      "metadata": {
        "id": "kDDbDul2KC_-"
      }
    },
    {
      "cell_type": "markdown",
      "source": [
        " <center><h1><font color=\"#e91e63\">1. Do men tend to work more hours? </font></h1></center>"
      ],
      "metadata": {
        "id": "FVS0R4LVKEyS"
      }
    },
    {
      "cell_type": "code",
      "source": [
        "from sklearn.linear_model import LinearRegression\n",
        "import numpy as np\n",
        "\n",
        "df = train[[\"hours_per_week\", \"sex\"]].dropna().copy()\n",
        "df[\"sex_binary\"] = df[\"sex\"].map({\"Female\": 0, \"Male\": 1})\n",
        "\n",
        "X = df[[\"sex_binary\"]].to_numpy()\n",
        "y = df[\"hours_per_week\"].to_numpy()\n",
        "\n",
        "lr = LinearRegression().fit(X, y)\n",
        "print(\"Intercept (Female mean):\", lr.intercept_)\n",
        "print(\"Coef (Male - Female):\",   lr.coef_[0])\n",
        "print(\"R^2:\", lr.score(X, y))\n"
      ],
      "metadata": {
        "id": "IkI6RLD3oMXb",
        "colab": {
          "base_uri": "https://localhost:8080/"
        },
        "outputId": "a794bd9a-c3aa-411a-f987-9420b3a6537c"
      },
      "execution_count": null,
      "outputs": [
        {
          "output_type": "stream",
          "name": "stdout",
          "text": [
            "Intercept (Female mean): 36.41036115495312\n",
            "Coef (Male - Female): 6.017725123156097\n",
            "R^2: 0.05258268582717096\n"
          ]
        }
      ]
    },
    {
      "cell_type": "markdown",
      "source": [
        "Yes, men tend to work more hours than women , about 6 hours more per week on average in this dataset. But gender by itself doesn’t explain much of the variation in working hours (R^2 is low)"
      ],
      "metadata": {
        "id": "E-EW_v5JV3vp"
      }
    },
    {
      "cell_type": "markdown",
      "source": [
        " <center><h1><font color=\"#e91e63\">2. Is education_num significant </font></h1></center>"
      ],
      "metadata": {
        "id": "-b9HgmNpWH4U"
      }
    },
    {
      "cell_type": "code",
      "source": [
        "from sklearn.linear_model import LinearRegression\n",
        "\n",
        "# keep only needed columns and drop missing\n",
        "df = train[[\"hours_per_week\", \"sex\", \"education_num\"]].dropna().copy()\n",
        "df[\"sex_binary\"] = df[\"sex\"].map({\"Female\": 0, \"Male\": 1})\n",
        "\n",
        "X = df[[\"sex_binary\", \"education_num\"]].to_numpy()\n",
        "y = df[\"hours_per_week\"].to_numpy()\n",
        "\n",
        "lr2 = LinearRegression().fit(X, y)\n",
        "print(\"Intercept:\", lr2.intercept_)\n",
        "print(\"Coef (Male - Female):\", lr2.coef_[0])\n",
        "print(\"Coef (per year of education):\", lr2.coef_[1])\n",
        "print(\"R^2:\", lr2.score(X, y))\n",
        "\n"
      ],
      "metadata": {
        "id": "nL1wk9mRKF8q",
        "colab": {
          "base_uri": "https://localhost:8080/"
        },
        "outputId": "869510f8-2a6e-4139-ba8a-9b496f7e7851"
      },
      "execution_count": null,
      "outputs": [
        {
          "output_type": "stream",
          "name": "stdout",
          "text": [
            "Intercept: 29.4105717490787\n",
            "Coef (Male - Female): 5.970890967107847\n",
            "Coef (per year of education): 0.6974858382966225\n",
            "R^2: 0.07369993753726667\n"
          ]
        }
      ]
    },
    {
      "cell_type": "code",
      "source": [
        "import statsmodels.api as sm\n",
        "\n",
        "df = train[[\"hours_per_week\", \"sex\", \"education_num\"]].dropna().copy()\n",
        "df[\"sex_binary\"] = df[\"sex\"].map({\"Female\": 0, \"Male\": 1})\n",
        "\n",
        "X = sm.add_constant(df[[\"sex_binary\", \"education_num\"]])\n",
        "y = df[\"hours_per_week\"]\n",
        "\n",
        "model2 = sm.OLS(y, X).fit()\n",
        "print(model2.summary())"
      ],
      "metadata": {
        "id": "A5SgfCR_UeFZ",
        "colab": {
          "base_uri": "https://localhost:8080/"
        },
        "outputId": "feb1309b-a18f-4845-f16f-756230155299"
      },
      "execution_count": null,
      "outputs": [
        {
          "output_type": "stream",
          "name": "stdout",
          "text": [
            "                            OLS Regression Results                            \n",
            "==============================================================================\n",
            "Dep. Variable:         hours_per_week   R-squared:                       0.074\n",
            "Model:                            OLS   Adj. R-squared:                  0.074\n",
            "Method:                 Least Squares   F-statistic:                     1295.\n",
            "Date:                Sun, 28 Sep 2025   Prob (F-statistic):               0.00\n",
            "Time:                        08:09:39   Log-Likelihood:            -1.2680e+05\n",
            "No. Observations:               32561   AIC:                         2.536e+05\n",
            "Df Residuals:                   32558   BIC:                         2.536e+05\n",
            "Df Model:                           2                                         \n",
            "Covariance Type:            nonrobust                                         \n",
            "=================================================================================\n",
            "                    coef    std err          t      P>|t|      [0.025      0.975]\n",
            "---------------------------------------------------------------------------------\n",
            "const            29.4106      0.281    104.556      0.000      28.859      29.962\n",
            "sex_binary        5.9709      0.140     42.653      0.000       5.697       6.245\n",
            "education_num     0.6975      0.026     27.244      0.000       0.647       0.748\n",
            "==============================================================================\n",
            "Omnibus:                     2783.881   Durbin-Watson:                   2.018\n",
            "Prob(Omnibus):                  0.000   Jarque-Bera (JB):            14492.060\n",
            "Skew:                           0.247   Prob(JB):                         0.00\n",
            "Kurtosis:                       6.231   Cond. No.                         45.6\n",
            "==============================================================================\n",
            "\n",
            "Notes:\n",
            "[1] Standard Errors assume that the covariance matrix of the errors is correctly specified.\n"
          ]
        }
      ]
    },
    {
      "cell_type": "markdown",
      "source": [
        "this model looks at how sex and education affect the number of hours people work. the intercept means a female with zero years of education would work about 29.4 hours a week, but that’s just a baseline and not a real situation. the sex coefficient shows that men work around 5.97 more hours per week than women, even after accounting for education, and this difference is statistically significant. the education coefficient shows that each extra year of education adds about 0.7 hours of work per week, which is also significant. the model explains about 7.4% of the variation in working hours, so the effect is real but not very strong. overall, both gender and education matter: men tend to work more, and people with higher education usually work slightly longer hours."
      ],
      "metadata": {
        "id": "kiCB2Ob7YYWF"
      }
    },
    {
      "cell_type": "markdown",
      "source": [
        " <center><h1><font color=\"#e91e63\">3. What statistic would you choose to decide which model is the best? Describe how you could re-do what was just done using a model fitting procedure. </font></h1></center>\n"
      ],
      "metadata": {
        "id": "UUiscIPCYv5R"
      }
    },
    {
      "cell_type": "code",
      "source": [
        "import statsmodels.api as sm\n",
        "\n",
        "df = train[[\"hours_per_week\", \"sex\", \"education_num\", \"income\"]].dropna().copy()\n",
        "df[\"sex_binary\"] = df[\"sex\"].map({\"Female\": 0, \"Male\": 1})\n",
        "df[\"gross_income_group\"] = df[\"income\"].map({\"<=50K\": 0, \">50K\": 1})\n",
        "\n",
        "X = sm.add_constant(df[[\"sex_binary\", \"education_num\", \"gross_income_group\"]])\n",
        "y = df[\"hours_per_week\"]\n",
        "\n",
        "model3 = sm.OLS(y, X).fit()\n",
        "print(model3.summary())"
      ],
      "metadata": {
        "colab": {
          "base_uri": "https://localhost:8080/"
        },
        "id": "N1g-JO6fXs57",
        "outputId": "9bbf7086-9c8c-4d2f-8e36-a8c923cc5653"
      },
      "execution_count": null,
      "outputs": [
        {
          "output_type": "stream",
          "name": "stdout",
          "text": [
            "                            OLS Regression Results                            \n",
            "==============================================================================\n",
            "Dep. Variable:         hours_per_week   R-squared:                       0.094\n",
            "Model:                            OLS   Adj. R-squared:                  0.094\n",
            "Method:                 Least Squares   F-statistic:                     1130.\n",
            "Date:                Sun, 28 Sep 2025   Prob (F-statistic):               0.00\n",
            "Time:                        08:14:15   Log-Likelihood:            -1.2643e+05\n",
            "No. Observations:               32561   AIC:                         2.529e+05\n",
            "Df Residuals:                   32557   BIC:                         2.529e+05\n",
            "Df Model:                           3                                         \n",
            "Covariance Type:            nonrobust                                         \n",
            "======================================================================================\n",
            "                         coef    std err          t      P>|t|      [0.025      0.975]\n",
            "--------------------------------------------------------------------------------------\n",
            "const                 31.4218      0.288    109.184      0.000      30.858      31.986\n",
            "sex_binary             5.1010      0.142     35.907      0.000       4.823       5.379\n",
            "education_num          0.4478      0.027     16.632      0.000       0.395       0.501\n",
            "gross_income_group     4.5175      0.166     27.229      0.000       4.192       4.843\n",
            "==============================================================================\n",
            "Omnibus:                     2984.190   Durbin-Watson:                   2.015\n",
            "Prob(Omnibus):                  0.000   Jarque-Bera (JB):            15467.160\n",
            "Skew:                           0.296   Prob(JB):                         0.00\n",
            "Kurtosis:                       6.324   Cond. No.                         48.1\n",
            "==============================================================================\n",
            "\n",
            "Notes:\n",
            "[1] Standard Errors assume that the covariance matrix of the errors is correctly specified.\n"
          ]
        }
      ]
    },
    {
      "cell_type": "markdown",
      "source": [
        "this model includes sex, education, and income group together. the intercept means a female with zero education and low income is predicted to work about 31.4 hours a week, but that’s just the baseline. the coefficient for sex is about 5.10, so even after controlling for education and income, men still work roughly 5 hours more per week than women. the education coefficient is about 0.45, showing that every extra year of education increases working hours by less than half an hour. the income coefficient is about 4.52, which means people earning more than 50k work around 4.5 more hours weekly than those earning less. all three variables are statistically significant (p < 0.001). the r² is about 0.094, a bit higher than before, meaning the three variables together explain around 9.4% of the differences in working hours. overall, gender, education, and income all play a role, but most variation still comes from other factors."
      ],
      "metadata": {
        "id": "pRF6Ksbza_0p"
      }
    },
    {
      "cell_type": "markdown",
      "source": [
        "when i compare the three models, i see that the r² increases each time we add a new variable. the first model with only gender explains about 5.3% of the variation in working hours. adding education raises it to around 7.4%, and adding income raises it again to about 9.4%. that means each new variable helps the model explain working hours better. the third model is the best because it includes all three important variables and explains the largest part of the variation."
      ],
      "metadata": {
        "id": "OkbURVemdUv0"
      }
    },
    {
      "cell_type": "markdown",
      "source": [
        "i built the models step by step, starting with gender, then adding education, then income. after each step i compared the r² values to see if the model improved. this showed how each factor adds more information and makes the prediction more accurate."
      ],
      "metadata": {
        "id": "20nX_irtdYFX"
      }
    },
    {
      "cell_type": "code",
      "source": [],
      "metadata": {
        "id": "gUxa5nLWYwVs"
      },
      "execution_count": null,
      "outputs": []
    }
  ],
  "metadata": {
    "colab": {
      "provenance": [],
      "authorship_tag": "ABX9TyP+Gj/U10goo6bwTBrt0Eny",
      "include_colab_link": true
    },
    "kernelspec": {
      "display_name": "Python 3",
      "name": "python3"
    },
    "language_info": {
      "name": "python"
    }
  },
  "nbformat": 4,
  "nbformat_minor": 0
}