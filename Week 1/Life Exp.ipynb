{
  "nbformat": 4,
  "nbformat_minor": 0,
  "metadata": {
    "colab": {
      "provenance": [],
      "authorship_tag": "ABX9TyP9NClBeRKSOv5DTBcX/xPw",
      "include_colab_link": true
    },
    "kernelspec": {
      "name": "python3",
      "display_name": "Python 3"
    },
    "language_info": {
      "name": "python"
    }
  },
  "cells": [
    {
      "cell_type": "markdown",
      "metadata": {
        "id": "view-in-github",
        "colab_type": "text"
      },
      "source": [
        "<a href=\"https://colab.research.google.com/github/Hassan-zeidan/AAI614_Zeidan/blob/main/Life%20Exp.ipynb\" target=\"_parent\"><img src=\"https://colab.research.google.com/assets/colab-badge.svg\" alt=\"Open In Colab\"/></a>"
      ]
    },
    {
      "cell_type": "markdown",
      "source": [
        "https://colab.research.google.com/github/Hassan-zeidan/AAI614_Zeidan/blob/main/Life%20Exp.ipynb"
      ],
      "metadata": {
        "id": "guQD_Id7aIbb"
      }
    },
    {
      "cell_type": "code",
      "execution_count": null,
      "metadata": {
        "colab": {
          "base_uri": "https://localhost:8080/"
        },
        "id": "YCGPpLpUU5zb",
        "outputId": "ecab2ae6-06c0-4849-cf09-dc47927d7963"
      },
      "outputs": [
        {
          "output_type": "stream",
          "name": "stdout",
          "text": [
            " Mean Value = 71.62\n",
            " median value = 73.9\n",
            " Range = 37.0\n",
            " Q1 = 65.75\n",
            " Q3 = 76.95\n",
            " IQR = 11.2\n",
            " Standard deviation = 8.12\n"
          ]
        }
      ],
      "source": [
        "import pandas as pd\n",
        "import numpy as np\n",
        "import matplotlib.pyplot as plt\n",
        "import seaborn as sns\n",
        "df=pd.read_csv(\"Life Expectancy Data.csv\")\n",
        "df_2015=df[df[\"Year\"]==2015]\n",
        "df_2015=df_2015.dropna(subset=[\"Life expectancy \"])\n",
        "df_2015_Life_expectancy=df_2015[['Country', 'Life expectancy ']]\n",
        "# df_2015_Life_expectancy ( table with country and life expectancy )\n",
        "\n",
        "life_exp = df_2015['Life expectancy ']\n",
        "\n",
        "# measures of central tendency\n",
        "\n",
        "MeanValue = life_exp.mean()\n",
        "MedianValue = life_exp.median()\n",
        "print(f\" Mean Value = {round(MeanValue,2)}\")\n",
        "print(f\" median value = {MedianValue}\")\n",
        "\n",
        "# measures of variability\n",
        "\n",
        "RangeValue=life_exp.max()-life_exp.min()\n",
        "Q1=life_exp.quantile(0.25)\n",
        "Q3=life_exp.quantile(0.75)\n",
        "IQR=Q3-Q1\n",
        "std_value = life_exp.std()\n",
        "print(f\" Range = {RangeValue}\")\n",
        "print(f\" Q1 = {Q1}\")\n",
        "print(f\" Q3 = {Q3}\")\n",
        "print(f\" IQR = {round(IQR,2)}\")\n",
        "print(f\" Standard deviation = {round(std_value,2)}\")"
      ]
    },
    {
      "cell_type": "code",
      "source": [],
      "metadata": {
        "id": "WhIW6SeFV7Rz"
      },
      "execution_count": null,
      "outputs": []
    }
  ]
}
