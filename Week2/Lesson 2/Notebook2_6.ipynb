{
  "cells": [
    {
      "cell_type": "markdown",
      "metadata": {
        "id": "view-in-github",
        "colab_type": "text"
      },
      "source": [
        "<a href=\"https://colab.research.google.com/github/Hassan-zeidan/AAI614_Zeidan/blob/main/Week2/Lesson%202/Notebook2_6.ipynb\" target=\"_parent\"><img src=\"https://colab.research.google.com/assets/colab-badge.svg\" alt=\"Open In Colab\"/></a>"
      ]
    },
    {
      "cell_type": "markdown",
      "id": "fc7854ae",
      "metadata": {
        "id": "fc7854ae"
      },
      "source": [
        "# AAI614: Data Science & its Applications\n",
        "\n",
        "*Notebook 2.6: Practice with Data Collections*\n",
        "\n",
        "<a href=\"https://colab.research.google.com/github/harmanani/AAI614/blob/main/Week%202/Notebook2.6.ipynb\" target=\"_parent\"><img src=\"https://colab.research.google.com/assets/colab-badge.svg\" alt=\"Open In Colab\"/></a>"
      ]
    },
    {
      "cell_type": "code",
      "execution_count": null,
      "id": "75417ef5",
      "metadata": {
        "id": "75417ef5"
      },
      "outputs": [],
      "source": [
        "import numpy as np\n",
        "import pandas as pd\n",
        "from pandas import Series, DataFrame\n",
        "\n",
        "import ssl\n",
        "\n",
        "ssl._create_default_https_context = ssl._create_unverified_context"
      ]
    },
    {
      "cell_type": "code",
      "execution_count": null,
      "id": "72f50802",
      "metadata": {
        "scrolled": true,
        "id": "72f50802"
      },
      "outputs": [],
      "source": [
        "# Import the taxi info from both January and July 2019.\n",
        "# Include the following columns: tpep_pickup_datetime, passenger_count, trip_distance,\n",
        "# fare_amount, extra, mta_tax, tip_amount, tolls_amount, improvement_surcharge,\n",
        "# total_amount, and congestion_surcharge.\n",
        "\n",
        "filenames = ['https://raw.githubusercontent.com/harmanani/AAI614/refs/heads/main/Week%202/nyc_taxi/nyc_taxi_2019-01aa.csv', 'https://raw.githubusercontent.com/harmanani/AAI614/refs/heads/main/Week%202/nyc_taxi/nyc_taxi_2019-01aq.csv', 'https://raw.githubusercontent.com/harmanani/AAI614/refs/heads/main/Week%202/nyc_taxi/nyc_taxi_2019-01bg.csv',\n",
        "             'https://raw.githubusercontent.com/harmanani/AAI614/refs/heads/main/Week%202/nyc_taxi/nyc_taxi_2019-07aa.csv', 'https://raw.githubusercontent.com/harmanani/AAI614/refs/heads/main/Week%202/nyc_taxi/nyc_taxi_2019-01ab.csv', 'https://raw.githubusercontent.com/harmanani/AAI614/refs/heads/main/Week%202/nyc_taxi/nyc_taxi_2019-01ar.csv',\n",
        "            'https://raw.githubusercontent.com/harmanani/AAI614/refs/heads/main/Week%202/nyc_taxi/nyc_taxi_2019-07ab.csv', 'https://raw.githubusercontent.com/harmanani/AAI614/refs/heads/main/Week%202/nyc_taxi/nyc_taxi_2019-07aq.csv', 'https://raw.githubusercontent.com/harmanani/AAI614/refs/heads/main/Week%202/nyc_taxi/nyc_taxi_2019-01ac.csv',\n",
        "            'https://raw.githubusercontent.com/harmanani/AAI614/refs/heads/main/Week%202/nyc_taxi/nyc_taxi_2019-01as.csv', 'https://raw.githubusercontent.com/harmanani/AAI614/refs/heads/main/Week%202/nyc_taxi/nyc_taxi_2019-07ab.csv', 'https://raw.githubusercontent.com/harmanani/AAI614/refs/heads/main/Week%202/nyc_taxi/nyc_taxi_2019-07ar.csv',\n",
        "            'https://raw.githubusercontent.com/harmanani/AAI614/refs/heads/main/Week%202/nyc_taxi/nyc_taxi_2019-01ad.csv', 'https://raw.githubusercontent.com/harmanani/AAI614/refs/heads/main/Week%202/nyc_taxi/nyc_taxi_2019-01at.csv', 'https://raw.githubusercontent.com/harmanani/AAI614/refs/heads/main/Week%202/nyc_taxi/nyc_taxi_2019-07ac.csv',\n",
        "            'https://raw.githubusercontent.com/harmanani/AAI614/refs/heads/main/Week%202/nyc_taxi/nyc_taxi_2019-07as.csv', 'https://raw.githubusercontent.com/harmanani/AAI614/refs/heads/main/Week%202/nyc_taxi/nyc_taxi_2019-01ae.csv', 'https://raw.githubusercontent.com/harmanani/AAI614/refs/heads/main/Week%202/nyc_taxi/nyc_taxi_2019-01au.csv',\n",
        "            'https://raw.githubusercontent.com/harmanani/AAI614/refs/heads/main/Week%202/nyc_taxi/nyc_taxi_2019-07ad.csv', 'https://raw.githubusercontent.com/harmanani/AAI614/refs/heads/main/Week%202/nyc_taxi/nyc_taxi_2019-07at.csv', 'https://raw.githubusercontent.com/harmanani/AAI614/refs/heads/main/Week%202/nyc_taxi/nyc_taxi_2019-01af.csv',\n",
        "            'https://raw.githubusercontent.com/harmanani/AAI614/refs/heads/main/Week%202/nyc_taxi/nyc_taxi_2019-01av.csv', 'https://raw.githubusercontent.com/harmanani/AAI614/refs/heads/main/Week%202/nyc_taxi/nyc_taxi_2019-07ae.csv', 'https://raw.githubusercontent.com/harmanani/AAI614/refs/heads/main/Week%202/nyc_taxi/nyc_taxi_2019-07au.csv',\n",
        "            'https://raw.githubusercontent.com/harmanani/AAI614/refs/heads/main/Week%202/nyc_taxi/nyc_taxi_2019-01ag.csv', 'https://raw.githubusercontent.com/harmanani/AAI614/refs/heads/main/Week%202/nyc_taxi/nyc_taxi_2019-01aw.csv', 'https://raw.githubusercontent.com/harmanani/AAI614/refs/heads/main/Week%202/nyc_taxi/nyc_taxi_2019-07af.csv',\n",
        "            'https://raw.githubusercontent.com/harmanani/AAI614/refs/heads/main/Week%202/nyc_taxi/nyc_taxi_2019-07av.csv', 'https://raw.githubusercontent.com/harmanani/AAI614/refs/heads/main/Week%202/nyc_taxi/nyc_taxi_2019-01ah.csv', 'https://raw.githubusercontent.com/harmanani/AAI614/refs/heads/main/Week%202/nyc_taxi/nyc_taxi_2019-01ax.csv',\n",
        "            'https://raw.githubusercontent.com/harmanani/AAI614/refs/heads/main/Week%202/nyc_taxi/nyc_taxi_2019-07ag.csv', 'https://raw.githubusercontent.com/harmanani/AAI614/refs/heads/main/Week%202/nyc_taxi/nyc_taxi_2019-07aw.csv', 'https://raw.githubusercontent.com/harmanani/AAI614/refs/heads/main/Week%202/nyc_taxi/nyc_taxi_2019-01ai.csv',\n",
        "            'https://raw.githubusercontent.com/harmanani/AAI614/refs/heads/main/Week%202/nyc_taxi/nyc_taxi_2019-01ay.csv',\n",
        "            'https://raw.githubusercontent.com/harmanani/AAI614/refs/heads/main/Week%202/nyc_taxi/nyc_taxi_2019-07ah.csv', 'https://raw.githubusercontent.com/harmanani/AAI614/refs/heads/main/Week%202/nyc_taxi/nyc_taxi_2019-07ax.csv', 'https://raw.githubusercontent.com/harmanani/AAI614/refs/heads/main/Week%202/nyc_taxi/nyc_taxi_2019-01aj.csv',\n",
        "            'https://raw.githubusercontent.com/harmanani/AAI614/refs/heads/main/Week%202/nyc_taxi/nyc_taxi_2019-01az.csv', 'https://raw.githubusercontent.com/harmanani/AAI614/refs/heads/main/Week%202/nyc_taxi/nyc_taxi_2019-07ai.csv', 'https://raw.githubusercontent.com/harmanani/AAI614/refs/heads/main/Week%202/nyc_taxi/nyc_taxi_2019-07ay.csv',\n",
        "            'https://raw.githubusercontent.com/harmanani/AAI614/refs/heads/main/Week%202/nyc_taxi/nyc_taxi_2019-01ak.csv', 'https://raw.githubusercontent.com/harmanani/AAI614/refs/heads/main/Week%202/nyc_taxi/nyc_taxi_2019-01ba.csv', 'https://raw.githubusercontent.com/harmanani/AAI614/refs/heads/main/Week%202/nyc_taxi/nyc_taxi_2019-07aj.csv',\n",
        "            'https://raw.githubusercontent.com/harmanani/AAI614/refs/heads/main/Week%202/nyc_taxi/nyc_taxi_2019-07az.csv', 'https://raw.githubusercontent.com/harmanani/AAI614/refs/heads/main/Week%202/nyc_taxi/nyc_taxi_2019-01al.csv', 'https://raw.githubusercontent.com/harmanani/AAI614/refs/heads/main/Week%202/nyc_taxi/nyc_taxi_2019-01bb.csv',\n",
        "            'https://raw.githubusercontent.com/harmanani/AAI614/refs/heads/main/Week%202/nyc_taxi/nyc_taxi_2019-07ak.csv', 'https://raw.githubusercontent.com/harmanani/AAI614/refs/heads/main/Week%202/nyc_taxi/nyc_taxi_2019-07ba.csv', 'https://raw.githubusercontent.com/harmanani/AAI614/refs/heads/main/Week%202/nyc_taxi/nyc_taxi_2019-01am.csv',\n",
        "            'https://raw.githubusercontent.com/harmanani/AAI614/refs/heads/main/Week%202/nyc_taxi/nyc_taxi_2019-01bc.csv', 'https://raw.githubusercontent.com/harmanani/AAI614/refs/heads/main/Week%202/nyc_taxi/nyc_taxi_2019-07al.csv', 'https://raw.githubusercontent.com/harmanani/AAI614/refs/heads/main/Week%202/nyc_taxi/nyc_taxi_2019-07bb.csv',\n",
        "            'https://raw.githubusercontent.com/harmanani/AAI614/refs/heads/main/Week%202/nyc_taxi/nyc_taxi_2019-01an.csv', 'https://raw.githubusercontent.com/harmanani/AAI614/refs/heads/main/Week%202/nyc_taxi/nyc_taxi_2019-01bd.csv', 'https://raw.githubusercontent.com/harmanani/AAI614/refs/heads/main/Week%202/nyc_taxi/nyc_taxi_2019-07am.csv',\n",
        "            'https://raw.githubusercontent.com/harmanani/AAI614/refs/heads/main/Week%202/nyc_taxi/nyc_taxi_2019-01ao.csv', 'https://raw.githubusercontent.com/harmanani/AAI614/refs/heads/main/Week%202/nyc_taxi/nyc_taxi_2019-01be.csv', 'https://raw.githubusercontent.com/harmanani/AAI614/refs/heads/main/Week%202/nyc_taxi/nyc_taxi_2019-07an.csv',\n",
        "            'https://raw.githubusercontent.com/harmanani/AAI614/refs/heads/main/Week%202/nyc_taxi/nyc_taxi_2019-01ap.csv', 'https://raw.githubusercontent.com/harmanani/AAI614/refs/heads/main/Week%202/nyc_taxi/nyc_taxi_2019-01bf.csv', 'https://raw.githubusercontent.com/harmanani/AAI614/refs/heads/main/Week%202/nyc_taxi/nyc_taxi_2019-07ao.csv']\n",
        "\n",
        "headers = ['VendorID', 'tpep_pickup_datetime', 'tpep_dropoff_datetime', 'passenger_count', 'trip_distance', 'RatecodeID', 'store_and_fwd_flag', 'PULocationID', 'DOLocationID', 'payment_type', 'fare_amount', 'extra', 'mta_tax', 'tip_amount', 'tolls_amount', 'improvement_surcharge', 'total_amount', 'congestion_surcharge']\n",
        "cols = ['tpep_pickup_datetime', 'passenger_count', 'trip_distance', 'fare_amount', 'extra', 'mta_tax', 'tip_amount', 'tolls_amount', 'improvement_surcharge', 'total_amount', 'congestion_surcharge']\n",
        "\n",
        "all_dfs = [pd.read_csv(one_filename,\n",
        "                       names = headers,\n",
        "                       header = 1,\n",
        "                       low_memory=False,\n",
        "                       usecols = cols,\n",
        "                       parse_dates = ['tpep_pickup_datetime'])\n",
        "                       for one_filename in filenames]\n",
        "\n",
        "df = pd.concat(all_dfs)\n",
        "\n"
      ]
    },
    {
      "cell_type": "code",
      "execution_count": null,
      "id": "e50fa600",
      "metadata": {
        "colab": {
          "base_uri": "https://localhost:8080/",
          "height": 241
        },
        "id": "e50fa600",
        "outputId": "339cd290-973e-4823-c807-bc289a7026f0"
      },
      "outputs": [
        {
          "output_type": "execute_result",
          "data": {
            "text/plain": [
              "0    15.30\n",
              "1     5.80\n",
              "2     4.80\n",
              "3    52.80\n",
              "4    10.56\n",
              "Name: pre_tip_amount, dtype: float64"
            ],
            "text/html": [
              "<div>\n",
              "<style scoped>\n",
              "    .dataframe tbody tr th:only-of-type {\n",
              "        vertical-align: middle;\n",
              "    }\n",
              "\n",
              "    .dataframe tbody tr th {\n",
              "        vertical-align: top;\n",
              "    }\n",
              "\n",
              "    .dataframe thead th {\n",
              "        text-align: right;\n",
              "    }\n",
              "</style>\n",
              "<table border=\"1\" class=\"dataframe\">\n",
              "  <thead>\n",
              "    <tr style=\"text-align: right;\">\n",
              "      <th></th>\n",
              "      <th>pre_tip_amount</th>\n",
              "    </tr>\n",
              "  </thead>\n",
              "  <tbody>\n",
              "    <tr>\n",
              "      <th>0</th>\n",
              "      <td>15.30</td>\n",
              "    </tr>\n",
              "    <tr>\n",
              "      <th>1</th>\n",
              "      <td>5.80</td>\n",
              "    </tr>\n",
              "    <tr>\n",
              "      <th>2</th>\n",
              "      <td>4.80</td>\n",
              "    </tr>\n",
              "    <tr>\n",
              "      <th>3</th>\n",
              "      <td>52.80</td>\n",
              "    </tr>\n",
              "    <tr>\n",
              "      <th>4</th>\n",
              "      <td>10.56</td>\n",
              "    </tr>\n",
              "  </tbody>\n",
              "</table>\n",
              "</div><br><label><b>dtype:</b> float64</label>"
            ]
          },
          "metadata": {},
          "execution_count": 5
        }
      ],
      "source": [
        "# Create a new column, pre_tip_amount\n",
        "df['pre_tip_amount'] = (\n",
        "    df\n",
        "    [['fare_amount', 'extra', 'mta_tax', 'tolls_amount',\n",
        "      'improvement_surcharge', 'congestion_surcharge']]\n",
        "    .sum(axis='columns')\n",
        ")\n",
        "df['pre_tip_amount'].head()\n"
      ]
    },
    {
      "cell_type": "code",
      "execution_count": null,
      "id": "4e8a58e2",
      "metadata": {
        "colab": {
          "base_uri": "https://localhost:8080/",
          "height": 241
        },
        "id": "4e8a58e2",
        "outputId": "f0bd7b2e-af77-455d-ef27-3afae9e03e51"
      },
      "outputs": [
        {
          "output_type": "execute_result",
          "data": {
            "text/plain": [
              "0    0.065359\n",
              "1    0.000000\n",
              "2    0.000000\n",
              "3    0.000000\n",
              "4    0.000000\n",
              "Name: tip_percentage, dtype: float64"
            ],
            "text/html": [
              "<div>\n",
              "<style scoped>\n",
              "    .dataframe tbody tr th:only-of-type {\n",
              "        vertical-align: middle;\n",
              "    }\n",
              "\n",
              "    .dataframe tbody tr th {\n",
              "        vertical-align: top;\n",
              "    }\n",
              "\n",
              "    .dataframe thead th {\n",
              "        text-align: right;\n",
              "    }\n",
              "</style>\n",
              "<table border=\"1\" class=\"dataframe\">\n",
              "  <thead>\n",
              "    <tr style=\"text-align: right;\">\n",
              "      <th></th>\n",
              "      <th>tip_percentage</th>\n",
              "    </tr>\n",
              "  </thead>\n",
              "  <tbody>\n",
              "    <tr>\n",
              "      <th>0</th>\n",
              "      <td>0.065359</td>\n",
              "    </tr>\n",
              "    <tr>\n",
              "      <th>1</th>\n",
              "      <td>0.000000</td>\n",
              "    </tr>\n",
              "    <tr>\n",
              "      <th>2</th>\n",
              "      <td>0.000000</td>\n",
              "    </tr>\n",
              "    <tr>\n",
              "      <th>3</th>\n",
              "      <td>0.000000</td>\n",
              "    </tr>\n",
              "    <tr>\n",
              "      <th>4</th>\n",
              "      <td>0.000000</td>\n",
              "    </tr>\n",
              "  </tbody>\n",
              "</table>\n",
              "</div><br><label><b>dtype:</b> float64</label>"
            ]
          },
          "metadata": {},
          "execution_count": 6
        }
      ],
      "source": [
        "# Create a new column, tip_percentage, showing the percent of the fare_amount that people tipped\n",
        "df['tip_percentage'] = df['tip_amount'] / df['pre_tip_amount']\n",
        "df['tip_percentage'].head()"
      ]
    },
    {
      "cell_type": "code",
      "execution_count": null,
      "id": "da53a378",
      "metadata": {
        "colab": {
          "base_uri": "https://localhost:8080/"
        },
        "id": "da53a378",
        "outputId": "0c655280-9f24-4475-850c-5b241f906d5e"
      },
      "outputs": [
        {
          "output_type": "execute_result",
          "data": {
            "text/plain": [
              "np.float64(0.1299311764375275)"
            ]
          },
          "metadata": {},
          "execution_count": 7
        }
      ],
      "source": [
        "# What was the overall tip percentage?\n",
        "df['tip_percentage'].mean()"
      ]
    },
    {
      "cell_type": "code",
      "execution_count": null,
      "id": "c3e69f9d",
      "metadata": {
        "scrolled": true,
        "colab": {
          "base_uri": "https://localhost:8080/",
          "height": 178
        },
        "id": "c3e69f9d",
        "outputId": "850dbbb1-56b9-475a-85fb-24818b68e309"
      },
      "outputs": [
        {
          "output_type": "execute_result",
          "data": {
            "text/plain": [
              "tip_percentage\n",
              "False    13971177\n",
              "True         7806\n",
              "Name: count, dtype: int64"
            ],
            "text/html": [
              "<div>\n",
              "<style scoped>\n",
              "    .dataframe tbody tr th:only-of-type {\n",
              "        vertical-align: middle;\n",
              "    }\n",
              "\n",
              "    .dataframe tbody tr th {\n",
              "        vertical-align: top;\n",
              "    }\n",
              "\n",
              "    .dataframe thead th {\n",
              "        text-align: right;\n",
              "    }\n",
              "</style>\n",
              "<table border=\"1\" class=\"dataframe\">\n",
              "  <thead>\n",
              "    <tr style=\"text-align: right;\">\n",
              "      <th></th>\n",
              "      <th>count</th>\n",
              "    </tr>\n",
              "    <tr>\n",
              "      <th>tip_percentage</th>\n",
              "      <th></th>\n",
              "    </tr>\n",
              "  </thead>\n",
              "  <tbody>\n",
              "    <tr>\n",
              "      <th>False</th>\n",
              "      <td>13971177</td>\n",
              "    </tr>\n",
              "    <tr>\n",
              "      <th>True</th>\n",
              "      <td>7806</td>\n",
              "    </tr>\n",
              "  </tbody>\n",
              "</table>\n",
              "</div><br><label><b>dtype:</b> int64</label>"
            ]
          },
          "metadata": {},
          "execution_count": 8
        }
      ],
      "source": [
        "# How many times did people tip more than 100%?\n",
        "(df['tip_percentage'] > 1).value_counts()"
      ]
    },
    {
      "cell_type": "code",
      "execution_count": null,
      "id": "98552a52",
      "metadata": {
        "colab": {
          "base_uri": "https://localhost:8080/",
          "height": 178
        },
        "id": "98552a52",
        "outputId": "3be1a69f-2d86-4053-ec7a-4cae2455a2fd"
      },
      "outputs": [
        {
          "output_type": "execute_result",
          "data": {
            "text/plain": [
              "tip_percentage\n",
              "False    0.678608\n",
              "True     0.321392\n",
              "Name: proportion, dtype: float64"
            ],
            "text/html": [
              "<div>\n",
              "<style scoped>\n",
              "    .dataframe tbody tr th:only-of-type {\n",
              "        vertical-align: middle;\n",
              "    }\n",
              "\n",
              "    .dataframe tbody tr th {\n",
              "        vertical-align: top;\n",
              "    }\n",
              "\n",
              "    .dataframe thead th {\n",
              "        text-align: right;\n",
              "    }\n",
              "</style>\n",
              "<table border=\"1\" class=\"dataframe\">\n",
              "  <thead>\n",
              "    <tr style=\"text-align: right;\">\n",
              "      <th></th>\n",
              "      <th>proportion</th>\n",
              "    </tr>\n",
              "    <tr>\n",
              "      <th>tip_percentage</th>\n",
              "      <th></th>\n",
              "    </tr>\n",
              "  </thead>\n",
              "  <tbody>\n",
              "    <tr>\n",
              "      <th>False</th>\n",
              "      <td>0.678608</td>\n",
              "    </tr>\n",
              "    <tr>\n",
              "      <th>True</th>\n",
              "      <td>0.321392</td>\n",
              "    </tr>\n",
              "  </tbody>\n",
              "</table>\n",
              "</div><br><label><b>dtype:</b> float64</label>"
            ]
          },
          "metadata": {},
          "execution_count": 9
        }
      ],
      "source": [
        "# What percent of taxi riders give no tip at all?\n",
        "(df['tip_percentage'] == 0).value_counts(normalize=True)"
      ]
    },
    {
      "cell_type": "code",
      "execution_count": null,
      "id": "352a2c0b",
      "metadata": {
        "scrolled": true,
        "colab": {
          "base_uri": "https://localhost:8080/",
          "height": 335
        },
        "id": "352a2c0b",
        "outputId": "b246e831-a134-4682-9b6f-19a70a047243"
      },
      "outputs": [
        {
          "output_type": "execute_result",
          "data": {
            "text/plain": [
              "tpep_pickup_datetime\n",
              "3.0    0.134325\n",
              "2.0    0.131881\n",
              "1.0    0.130681\n",
              "4.0    0.129410\n",
              "0.0    0.128723\n",
              "6.0    0.126634\n",
              "5.0    0.125801\n",
              "Name: tip_percentage, dtype: float64"
            ],
            "text/html": [
              "<div>\n",
              "<style scoped>\n",
              "    .dataframe tbody tr th:only-of-type {\n",
              "        vertical-align: middle;\n",
              "    }\n",
              "\n",
              "    .dataframe tbody tr th {\n",
              "        vertical-align: top;\n",
              "    }\n",
              "\n",
              "    .dataframe thead th {\n",
              "        text-align: right;\n",
              "    }\n",
              "</style>\n",
              "<table border=\"1\" class=\"dataframe\">\n",
              "  <thead>\n",
              "    <tr style=\"text-align: right;\">\n",
              "      <th></th>\n",
              "      <th>tip_percentage</th>\n",
              "    </tr>\n",
              "    <tr>\n",
              "      <th>tpep_pickup_datetime</th>\n",
              "      <th></th>\n",
              "    </tr>\n",
              "  </thead>\n",
              "  <tbody>\n",
              "    <tr>\n",
              "      <th>3.0</th>\n",
              "      <td>0.134325</td>\n",
              "    </tr>\n",
              "    <tr>\n",
              "      <th>2.0</th>\n",
              "      <td>0.131881</td>\n",
              "    </tr>\n",
              "    <tr>\n",
              "      <th>1.0</th>\n",
              "      <td>0.130681</td>\n",
              "    </tr>\n",
              "    <tr>\n",
              "      <th>4.0</th>\n",
              "      <td>0.129410</td>\n",
              "    </tr>\n",
              "    <tr>\n",
              "      <th>0.0</th>\n",
              "      <td>0.128723</td>\n",
              "    </tr>\n",
              "    <tr>\n",
              "      <th>6.0</th>\n",
              "      <td>0.126634</td>\n",
              "    </tr>\n",
              "    <tr>\n",
              "      <th>5.0</th>\n",
              "      <td>0.125801</td>\n",
              "    </tr>\n",
              "  </tbody>\n",
              "</table>\n",
              "</div><br><label><b>dtype:</b> float64</label>"
            ]
          },
          "metadata": {},
          "execution_count": 10
        }
      ],
      "source": [
        "# On which day of the week do people tip the greatest percentage?\n",
        "# Mon = 0, Tues = 1, Wed = 2, Thu = 3, Fri = 4, Sat = 5, Sun = 6\n",
        "df['tpep_pickup_datetime'] = pd.to_datetime(df['tpep_pickup_datetime'], errors = 'coerce')\n",
        "df.groupby(df['tpep_pickup_datetime'].dt.day_of_week)['tip_percentage'].mean().sort_values(ascending=False)"
      ]
    },
    {
      "cell_type": "code",
      "execution_count": null,
      "id": "3ee84377",
      "metadata": {
        "scrolled": true,
        "colab": {
          "base_uri": "https://localhost:8080/",
          "height": 868
        },
        "id": "3ee84377",
        "outputId": "c083e4a0-ef10-47f8-9bc5-ed4f1a3a3640"
      },
      "outputs": [
        {
          "output_type": "execute_result",
          "data": {
            "text/plain": [
              "tpep_pickup_datetime\n",
              "22.0    0.138875\n",
              "20.0    0.138077\n",
              "21.0    0.137589\n",
              "8.0     0.137015\n",
              "19.0    0.135120\n",
              "23.0    0.134812\n",
              "18.0    0.133217\n",
              "9.0     0.132800\n",
              "7.0     0.131954\n",
              "0.0     0.131289\n",
              "1.0     0.130993\n",
              "2.0     0.130831\n",
              "17.0    0.128518\n",
              "10.0    0.127014\n",
              "11.0    0.124796\n",
              "16.0    0.124588\n",
              "13.0    0.124417\n",
              "12.0    0.124323\n",
              "14.0    0.123623\n",
              "15.0    0.123450\n",
              "3.0     0.121132\n",
              "6.0     0.119908\n",
              "4.0     0.118884\n",
              "5.0     0.112030\n",
              "Name: tip_percentage, dtype: float64"
            ],
            "text/html": [
              "<div>\n",
              "<style scoped>\n",
              "    .dataframe tbody tr th:only-of-type {\n",
              "        vertical-align: middle;\n",
              "    }\n",
              "\n",
              "    .dataframe tbody tr th {\n",
              "        vertical-align: top;\n",
              "    }\n",
              "\n",
              "    .dataframe thead th {\n",
              "        text-align: right;\n",
              "    }\n",
              "</style>\n",
              "<table border=\"1\" class=\"dataframe\">\n",
              "  <thead>\n",
              "    <tr style=\"text-align: right;\">\n",
              "      <th></th>\n",
              "      <th>tip_percentage</th>\n",
              "    </tr>\n",
              "    <tr>\n",
              "      <th>tpep_pickup_datetime</th>\n",
              "      <th></th>\n",
              "    </tr>\n",
              "  </thead>\n",
              "  <tbody>\n",
              "    <tr>\n",
              "      <th>22.0</th>\n",
              "      <td>0.138875</td>\n",
              "    </tr>\n",
              "    <tr>\n",
              "      <th>20.0</th>\n",
              "      <td>0.138077</td>\n",
              "    </tr>\n",
              "    <tr>\n",
              "      <th>21.0</th>\n",
              "      <td>0.137589</td>\n",
              "    </tr>\n",
              "    <tr>\n",
              "      <th>8.0</th>\n",
              "      <td>0.137015</td>\n",
              "    </tr>\n",
              "    <tr>\n",
              "      <th>19.0</th>\n",
              "      <td>0.135120</td>\n",
              "    </tr>\n",
              "    <tr>\n",
              "      <th>23.0</th>\n",
              "      <td>0.134812</td>\n",
              "    </tr>\n",
              "    <tr>\n",
              "      <th>18.0</th>\n",
              "      <td>0.133217</td>\n",
              "    </tr>\n",
              "    <tr>\n",
              "      <th>9.0</th>\n",
              "      <td>0.132800</td>\n",
              "    </tr>\n",
              "    <tr>\n",
              "      <th>7.0</th>\n",
              "      <td>0.131954</td>\n",
              "    </tr>\n",
              "    <tr>\n",
              "      <th>0.0</th>\n",
              "      <td>0.131289</td>\n",
              "    </tr>\n",
              "    <tr>\n",
              "      <th>1.0</th>\n",
              "      <td>0.130993</td>\n",
              "    </tr>\n",
              "    <tr>\n",
              "      <th>2.0</th>\n",
              "      <td>0.130831</td>\n",
              "    </tr>\n",
              "    <tr>\n",
              "      <th>17.0</th>\n",
              "      <td>0.128518</td>\n",
              "    </tr>\n",
              "    <tr>\n",
              "      <th>10.0</th>\n",
              "      <td>0.127014</td>\n",
              "    </tr>\n",
              "    <tr>\n",
              "      <th>11.0</th>\n",
              "      <td>0.124796</td>\n",
              "    </tr>\n",
              "    <tr>\n",
              "      <th>16.0</th>\n",
              "      <td>0.124588</td>\n",
              "    </tr>\n",
              "    <tr>\n",
              "      <th>13.0</th>\n",
              "      <td>0.124417</td>\n",
              "    </tr>\n",
              "    <tr>\n",
              "      <th>12.0</th>\n",
              "      <td>0.124323</td>\n",
              "    </tr>\n",
              "    <tr>\n",
              "      <th>14.0</th>\n",
              "      <td>0.123623</td>\n",
              "    </tr>\n",
              "    <tr>\n",
              "      <th>15.0</th>\n",
              "      <td>0.123450</td>\n",
              "    </tr>\n",
              "    <tr>\n",
              "      <th>3.0</th>\n",
              "      <td>0.121132</td>\n",
              "    </tr>\n",
              "    <tr>\n",
              "      <th>6.0</th>\n",
              "      <td>0.119908</td>\n",
              "    </tr>\n",
              "    <tr>\n",
              "      <th>4.0</th>\n",
              "      <td>0.118884</td>\n",
              "    </tr>\n",
              "    <tr>\n",
              "      <th>5.0</th>\n",
              "      <td>0.112030</td>\n",
              "    </tr>\n",
              "  </tbody>\n",
              "</table>\n",
              "</div><br><label><b>dtype:</b> float64</label>"
            ]
          },
          "metadata": {},
          "execution_count": 13
        }
      ],
      "source": [
        "# At which hour do people tip the greatest percentage?\n",
        "df.groupby(df['tpep_pickup_datetime'].dt.hour)['tip_percentage'].mean().sort_values(ascending=False)"
      ]
    },
    {
      "cell_type": "code",
      "execution_count": null,
      "id": "4396ea84",
      "metadata": {
        "scrolled": true,
        "colab": {
          "base_uri": "https://localhost:8080/",
          "height": 492
        },
        "id": "4396ea84",
        "outputId": "7a5aa72f-e4eb-4811-cc5e-13466ea2883d"
      },
      "outputs": [
        {
          "output_type": "execute_result",
          "data": {
            "text/plain": [
              "tpep_pickup_datetime\n",
              "5.0     0.200000\n",
              "8.0     0.158099\n",
              "3.0     0.148046\n",
              "9.0     0.141431\n",
              "1.0     0.137011\n",
              "2.0     0.132224\n",
              "7.0     0.121331\n",
              "12.0    0.109367\n",
              "6.0     0.108901\n",
              "10.0    0.100000\n",
              "4.0     0.074877\n",
              "11.0    0.046026\n",
              "Name: tip_percentage, dtype: float64"
            ],
            "text/html": [
              "<div>\n",
              "<style scoped>\n",
              "    .dataframe tbody tr th:only-of-type {\n",
              "        vertical-align: middle;\n",
              "    }\n",
              "\n",
              "    .dataframe tbody tr th {\n",
              "        vertical-align: top;\n",
              "    }\n",
              "\n",
              "    .dataframe thead th {\n",
              "        text-align: right;\n",
              "    }\n",
              "</style>\n",
              "<table border=\"1\" class=\"dataframe\">\n",
              "  <thead>\n",
              "    <tr style=\"text-align: right;\">\n",
              "      <th></th>\n",
              "      <th>tip_percentage</th>\n",
              "    </tr>\n",
              "    <tr>\n",
              "      <th>tpep_pickup_datetime</th>\n",
              "      <th></th>\n",
              "    </tr>\n",
              "  </thead>\n",
              "  <tbody>\n",
              "    <tr>\n",
              "      <th>5.0</th>\n",
              "      <td>0.200000</td>\n",
              "    </tr>\n",
              "    <tr>\n",
              "      <th>8.0</th>\n",
              "      <td>0.158099</td>\n",
              "    </tr>\n",
              "    <tr>\n",
              "      <th>3.0</th>\n",
              "      <td>0.148046</td>\n",
              "    </tr>\n",
              "    <tr>\n",
              "      <th>9.0</th>\n",
              "      <td>0.141431</td>\n",
              "    </tr>\n",
              "    <tr>\n",
              "      <th>1.0</th>\n",
              "      <td>0.137011</td>\n",
              "    </tr>\n",
              "    <tr>\n",
              "      <th>2.0</th>\n",
              "      <td>0.132224</td>\n",
              "    </tr>\n",
              "    <tr>\n",
              "      <th>7.0</th>\n",
              "      <td>0.121331</td>\n",
              "    </tr>\n",
              "    <tr>\n",
              "      <th>12.0</th>\n",
              "      <td>0.109367</td>\n",
              "    </tr>\n",
              "    <tr>\n",
              "      <th>6.0</th>\n",
              "      <td>0.108901</td>\n",
              "    </tr>\n",
              "    <tr>\n",
              "      <th>10.0</th>\n",
              "      <td>0.100000</td>\n",
              "    </tr>\n",
              "    <tr>\n",
              "      <th>4.0</th>\n",
              "      <td>0.074877</td>\n",
              "    </tr>\n",
              "    <tr>\n",
              "      <th>11.0</th>\n",
              "      <td>0.046026</td>\n",
              "    </tr>\n",
              "  </tbody>\n",
              "</table>\n",
              "</div><br><label><b>dtype:</b> float64</label>"
            ]
          },
          "metadata": {},
          "execution_count": 14
        }
      ],
      "source": [
        "# Do people tip more, on average, in January or July?\n",
        "df.groupby(df['tpep_pickup_datetime'].dt.month)['tip_percentage'].mean().sort_values(ascending=False)"
      ]
    },
    {
      "cell_type": "code",
      "execution_count": null,
      "id": "5f65e5ed",
      "metadata": {
        "colab": {
          "base_uri": "https://localhost:8080/",
          "height": 429
        },
        "id": "5f65e5ed",
        "outputId": "92ca900f-4db2-4f97-b2d6-6cd594d18a19"
      },
      "outputs": [
        {
          "output_type": "execute_result",
          "data": {
            "text/plain": [
              "tpep_pickup_datetime\n",
              "2019-02-13    0.358127\n",
              "2019-02-25    0.250000\n",
              "2019-08-20    0.241865\n",
              "2019-05-20    0.200000\n",
              "2019-08-15    0.200000\n",
              "2019-09-22    0.200000\n",
              "2019-11-27    0.200000\n",
              "2019-08-10    0.200000\n",
              "2019-09-24    0.200000\n",
              "2010-08-08    0.200000\n",
              "Name: tip_percentage, dtype: float64"
            ],
            "text/html": [
              "<div>\n",
              "<style scoped>\n",
              "    .dataframe tbody tr th:only-of-type {\n",
              "        vertical-align: middle;\n",
              "    }\n",
              "\n",
              "    .dataframe tbody tr th {\n",
              "        vertical-align: top;\n",
              "    }\n",
              "\n",
              "    .dataframe thead th {\n",
              "        text-align: right;\n",
              "    }\n",
              "</style>\n",
              "<table border=\"1\" class=\"dataframe\">\n",
              "  <thead>\n",
              "    <tr style=\"text-align: right;\">\n",
              "      <th></th>\n",
              "      <th>tip_percentage</th>\n",
              "    </tr>\n",
              "    <tr>\n",
              "      <th>tpep_pickup_datetime</th>\n",
              "      <th></th>\n",
              "    </tr>\n",
              "  </thead>\n",
              "  <tbody>\n",
              "    <tr>\n",
              "      <th>2019-02-13</th>\n",
              "      <td>0.358127</td>\n",
              "    </tr>\n",
              "    <tr>\n",
              "      <th>2019-02-25</th>\n",
              "      <td>0.250000</td>\n",
              "    </tr>\n",
              "    <tr>\n",
              "      <th>2019-08-20</th>\n",
              "      <td>0.241865</td>\n",
              "    </tr>\n",
              "    <tr>\n",
              "      <th>2019-05-20</th>\n",
              "      <td>0.200000</td>\n",
              "    </tr>\n",
              "    <tr>\n",
              "      <th>2019-08-15</th>\n",
              "      <td>0.200000</td>\n",
              "    </tr>\n",
              "    <tr>\n",
              "      <th>2019-09-22</th>\n",
              "      <td>0.200000</td>\n",
              "    </tr>\n",
              "    <tr>\n",
              "      <th>2019-11-27</th>\n",
              "      <td>0.200000</td>\n",
              "    </tr>\n",
              "    <tr>\n",
              "      <th>2019-08-10</th>\n",
              "      <td>0.200000</td>\n",
              "    </tr>\n",
              "    <tr>\n",
              "      <th>2019-09-24</th>\n",
              "      <td>0.200000</td>\n",
              "    </tr>\n",
              "    <tr>\n",
              "      <th>2010-08-08</th>\n",
              "      <td>0.200000</td>\n",
              "    </tr>\n",
              "  </tbody>\n",
              "</table>\n",
              "</div><br><label><b>dtype:</b> float64</label>"
            ]
          },
          "metadata": {},
          "execution_count": 15
        }
      ],
      "source": [
        "# What was the 1-day period in our data set when people tipped the greatest percentage?\n",
        "df = df.reset_index() # Reset the index\n",
        "df = df.set_index('tpep_pickup_datetime')\n",
        "df.resample('1D')['tip_percentage'].mean().sort_values(ascending=False).head(10)"
      ]
    },
    {
      "cell_type": "code",
      "execution_count": null,
      "id": "db8540a2",
      "metadata": {
        "colab": {
          "base_uri": "https://localhost:8080/",
          "height": 429
        },
        "id": "db8540a2",
        "outputId": "83ad1b1d-c4a4-4915-fa22-ffb204a85f2d"
      },
      "outputs": [
        {
          "output_type": "execute_result",
          "data": {
            "text/plain": [
              "tpep_pickup_datetime\n",
              "2019-01-31    0.144348\n",
              "2019-01-30    0.143530\n",
              "2019-01-24    0.143434\n",
              "2019-01-22    0.142769\n",
              "2019-01-15    0.142330\n",
              "2019-01-29    0.141331\n",
              "2019-01-10    0.141291\n",
              "2019-01-16    0.141147\n",
              "2019-01-17    0.140356\n",
              "2019-01-23    0.140309\n",
              "Name: tip_percentage, dtype: float64"
            ],
            "text/html": [
              "<div>\n",
              "<style scoped>\n",
              "    .dataframe tbody tr th:only-of-type {\n",
              "        vertical-align: middle;\n",
              "    }\n",
              "\n",
              "    .dataframe tbody tr th {\n",
              "        vertical-align: top;\n",
              "    }\n",
              "\n",
              "    .dataframe thead th {\n",
              "        text-align: right;\n",
              "    }\n",
              "</style>\n",
              "<table border=\"1\" class=\"dataframe\">\n",
              "  <thead>\n",
              "    <tr style=\"text-align: right;\">\n",
              "      <th></th>\n",
              "      <th>tip_percentage</th>\n",
              "    </tr>\n",
              "    <tr>\n",
              "      <th>tpep_pickup_datetime</th>\n",
              "      <th></th>\n",
              "    </tr>\n",
              "  </thead>\n",
              "  <tbody>\n",
              "    <tr>\n",
              "      <th>2019-01-31</th>\n",
              "      <td>0.144348</td>\n",
              "    </tr>\n",
              "    <tr>\n",
              "      <th>2019-01-30</th>\n",
              "      <td>0.143530</td>\n",
              "    </tr>\n",
              "    <tr>\n",
              "      <th>2019-01-24</th>\n",
              "      <td>0.143434</td>\n",
              "    </tr>\n",
              "    <tr>\n",
              "      <th>2019-01-22</th>\n",
              "      <td>0.142769</td>\n",
              "    </tr>\n",
              "    <tr>\n",
              "      <th>2019-01-15</th>\n",
              "      <td>0.142330</td>\n",
              "    </tr>\n",
              "    <tr>\n",
              "      <th>2019-01-29</th>\n",
              "      <td>0.141331</td>\n",
              "    </tr>\n",
              "    <tr>\n",
              "      <th>2019-01-10</th>\n",
              "      <td>0.141291</td>\n",
              "    </tr>\n",
              "    <tr>\n",
              "      <th>2019-01-16</th>\n",
              "      <td>0.141147</td>\n",
              "    </tr>\n",
              "    <tr>\n",
              "      <th>2019-01-17</th>\n",
              "      <td>0.140356</td>\n",
              "    </tr>\n",
              "    <tr>\n",
              "      <th>2019-01-23</th>\n",
              "      <td>0.140309</td>\n",
              "    </tr>\n",
              "  </tbody>\n",
              "</table>\n",
              "</div><br><label><b>dtype:</b> float64</label>"
            ]
          },
          "metadata": {},
          "execution_count": 16
        }
      ],
      "source": [
        "# Try again, within our range\n",
        "df = df.dropna(subset=['tip_percentage']) # Drop rows where tip_percentage is NaN (due to NaT in index)\n",
        "df = df.sort_index()\n",
        "\n",
        "df = pd.concat([df.loc['2019-01-01':'2019-01-31'],\n",
        "           df.loc['2019-07-01':'2019-07-31']])\n",
        "\n",
        "df.resample('1D')['tip_percentage'].mean().sort_values(ascending=False).head(10)"
      ]
    },
    {
      "cell_type": "code",
      "execution_count": null,
      "id": "5388c8d4",
      "metadata": {
        "colab": {
          "base_uri": "https://localhost:8080/",
          "height": 214
        },
        "id": "5388c8d4",
        "outputId": "b88868e2-fcef-431b-c31a-c5a674529848"
      },
      "outputs": [
        {
          "output_type": "stream",
          "name": "stderr",
          "text": [
            "/tmp/ipython-input-497147689.py:1: FutureWarning: 'M' is deprecated and will be removed in a future version, please use 'ME' instead.\n",
            "  df.resample('1M')['tip_percentage'].mean().dropna()\n"
          ]
        },
        {
          "output_type": "execute_result",
          "data": {
            "text/plain": [
              "tpep_pickup_datetime\n",
              "2019-01-31    0.137012\n",
              "2019-07-31    0.121331\n",
              "Name: tip_percentage, dtype: float64"
            ],
            "text/html": [
              "<div>\n",
              "<style scoped>\n",
              "    .dataframe tbody tr th:only-of-type {\n",
              "        vertical-align: middle;\n",
              "    }\n",
              "\n",
              "    .dataframe tbody tr th {\n",
              "        vertical-align: top;\n",
              "    }\n",
              "\n",
              "    .dataframe thead th {\n",
              "        text-align: right;\n",
              "    }\n",
              "</style>\n",
              "<table border=\"1\" class=\"dataframe\">\n",
              "  <thead>\n",
              "    <tr style=\"text-align: right;\">\n",
              "      <th></th>\n",
              "      <th>tip_percentage</th>\n",
              "    </tr>\n",
              "    <tr>\n",
              "      <th>tpep_pickup_datetime</th>\n",
              "      <th></th>\n",
              "    </tr>\n",
              "  </thead>\n",
              "  <tbody>\n",
              "    <tr>\n",
              "      <th>2019-01-31</th>\n",
              "      <td>0.137012</td>\n",
              "    </tr>\n",
              "    <tr>\n",
              "      <th>2019-07-31</th>\n",
              "      <td>0.121331</td>\n",
              "    </tr>\n",
              "  </tbody>\n",
              "</table>\n",
              "</div><br><label><b>dtype:</b> float64</label>"
            ]
          },
          "metadata": {},
          "execution_count": 17
        }
      ],
      "source": [
        "df.resample('1M')['tip_percentage'].mean().dropna()"
      ]
    },
    {
      "cell_type": "markdown",
      "id": "6c95720f",
      "metadata": {
        "id": "6c95720f"
      },
      "source": [
        "# Questions"
      ]
    },
    {
      "cell_type": "markdown",
      "id": "ba13d442",
      "metadata": {
        "id": "ba13d442"
      },
      "source": [
        "1. We saw that 32 percent of riders don't tip at all. Of those who *do*, what percentage do they tip, on average?"
      ]
    },
    {
      "cell_type": "code",
      "execution_count": null,
      "id": "5da12f8f",
      "metadata": {
        "colab": {
          "base_uri": "https://localhost:8080/"
        },
        "id": "5da12f8f",
        "outputId": "c5315075-9937-4d29-ab92-14049a84aa1c"
      },
      "outputs": [
        {
          "output_type": "stream",
          "name": "stdout",
          "text": [
            "Of those who do tip, the average tip percentage is: 19.15%\n"
          ]
        }
      ],
      "source": [
        "df['tipped'] = df['tip_amount'] != 0\n",
        "average_tip_percentage_for_tippers = df[df['tipped']]['tip_percentage'].mean()\n",
        "print(f\"Of those who do tip, the average tip percentage is: {average_tip_percentage_for_tippers:.2%}\")"
      ]
    },
    {
      "cell_type": "markdown",
      "id": "9ac7ee93",
      "metadata": {
        "id": "9ac7ee93"
      },
      "source": [
        "2. How many of the rides in our data set, supposedly from January and July 2019, are from outside of those dates?"
      ]
    },
    {
      "cell_type": "code",
      "execution_count": null,
      "id": "2ffbde94",
      "metadata": {
        "id": "2ffbde94",
        "colab": {
          "base_uri": "https://localhost:8080/"
        },
        "outputId": "b444e619-23ca-46d8-e8d9-94ce1dfe96ca"
      },
      "outputs": [
        {
          "output_type": "stream",
          "name": "stdout",
          "text": [
            "509038\n"
          ]
        }
      ],
      "source": [
        "ndf = pd.concat(all_dfs)\n",
        "ndf['tpep_pickup_datetime'] = pd.to_datetime(ndf['tpep_pickup_datetime'], errors = 'coerce')\n",
        "outside = (~(ndf['tpep_pickup_datetime'].between('2019-01-01','2019-01-31','both') | ndf['tpep_pickup_datetime'].between('2019-07-01','2019-07-31','both')) & ndf['tpep_pickup_datetime'].notna()).sum()\n",
        "print(outside)"
      ]
    },
    {
      "cell_type": "markdown",
      "id": "9aeae03b",
      "metadata": {
        "id": "9aeae03b"
      },
      "source": [
        "3. Looking only at dates in January and July, on what week did passengers tip the greatest percentage?"
      ]
    },
    {
      "cell_type": "code",
      "execution_count": null,
      "id": "329fa72b",
      "metadata": {
        "id": "329fa72b",
        "colab": {
          "base_uri": "https://localhost:8080/",
          "height": 216
        },
        "outputId": "e46c3a2e-705a-4c3a-c813-c9b32e242150"
      },
      "outputs": [
        {
          "output_type": "error",
          "ename": "NameError",
          "evalue": "name 'pd' is not defined",
          "traceback": [
            "\u001b[0;31m---------------------------------------------------------------------------\u001b[0m",
            "\u001b[0;31mNameError\u001b[0m                                 Traceback (most recent call last)",
            "\u001b[0;32m/tmp/ipython-input-895191200.py\u001b[0m in \u001b[0;36m<cell line: 0>\u001b[0;34m()\u001b[0m\n\u001b[0;32m----> 1\u001b[0;31m \u001b[0mndf\u001b[0m\u001b[0;34m[\u001b[0m\u001b[0;34m'tpep_pickup_datetime'\u001b[0m\u001b[0;34m]\u001b[0m \u001b[0;34m=\u001b[0m \u001b[0mpd\u001b[0m\u001b[0;34m.\u001b[0m\u001b[0mto_datetime\u001b[0m\u001b[0;34m(\u001b[0m\u001b[0mndf\u001b[0m\u001b[0;34m[\u001b[0m\u001b[0;34m'tpep_pickup_datetime'\u001b[0m\u001b[0;34m]\u001b[0m\u001b[0;34m,\u001b[0m \u001b[0merrors\u001b[0m \u001b[0;34m=\u001b[0m \u001b[0;34m'coerce'\u001b[0m\u001b[0;34m)\u001b[0m\u001b[0;34m\u001b[0m\u001b[0;34m\u001b[0m\u001b[0m\n\u001b[0m\u001b[1;32m      2\u001b[0m \u001b[0mdf_jan_july\u001b[0m \u001b[0;34m=\u001b[0m \u001b[0mndf\u001b[0m\u001b[0;34m[\u001b[0m\u001b[0mndf\u001b[0m\u001b[0;34m[\u001b[0m\u001b[0;34m'tpep_pickup_datetime'\u001b[0m\u001b[0;34m]\u001b[0m\u001b[0;34m.\u001b[0m\u001b[0mdt\u001b[0m\u001b[0;34m.\u001b[0m\u001b[0mmonth\u001b[0m\u001b[0;34m.\u001b[0m\u001b[0misin\u001b[0m\u001b[0;34m(\u001b[0m\u001b[0;34m[\u001b[0m\u001b[0;36m1\u001b[0m\u001b[0;34m,\u001b[0m \u001b[0;36m7\u001b[0m\u001b[0;34m]\u001b[0m\u001b[0;34m)\u001b[0m\u001b[0;34m]\u001b[0m\u001b[0;34m.\u001b[0m\u001b[0mcopy\u001b[0m\u001b[0;34m(\u001b[0m\u001b[0;34m)\u001b[0m\u001b[0;34m\u001b[0m\u001b[0;34m\u001b[0m\u001b[0m\n\u001b[1;32m      3\u001b[0m \u001b[0;34m\u001b[0m\u001b[0m\n\u001b[1;32m      4\u001b[0m \u001b[0mdf_jan_july\u001b[0m \u001b[0;34m=\u001b[0m \u001b[0mdf_jan_july\u001b[0m\u001b[0;34m.\u001b[0m\u001b[0mset_index\u001b[0m\u001b[0;34m(\u001b[0m\u001b[0;34m'tpep_pickup_datetime'\u001b[0m\u001b[0;34m)\u001b[0m\u001b[0;34m\u001b[0m\u001b[0;34m\u001b[0m\u001b[0m\n\u001b[1;32m      5\u001b[0m \u001b[0;34m\u001b[0m\u001b[0m\n",
            "\u001b[0;31mNameError\u001b[0m: name 'pd' is not defined"
          ]
        }
      ],
      "source": [
        "ndf['tpep_pickup_datetime'] = pd.to_datetime(ndf['tpep_pickup_datetime'], errors = 'coerce')\n",
        "df_jan_july = ndf[ndf['tpep_pickup_datetime'].dt.month.isin([1, 7])].copy()\n",
        "\n",
        "df_jan_july = df_jan_july.set_index('tpep_pickup_datetime')\n",
        "\n",
        "weekly_tip_percentage = df_jan_july.resample('W')['tip_percentage'].mean().sort_values(ascending=False)\n",
        "\n",
        "print(\"Weekly tip percentage (January and July 2019):\")\n",
        "print(weekly_tip_percentage.head(10))"
      ]
    },
    {
      "cell_type": "code",
      "source": [],
      "metadata": {
        "id": "tElT-kK47ye6"
      },
      "id": "tElT-kK47ye6",
      "execution_count": null,
      "outputs": []
    }
  ],
  "metadata": {
    "kernelspec": {
      "display_name": "Python 3",
      "language": "python",
      "name": "python3"
    },
    "language_info": {
      "codemirror_mode": {
        "name": "ipython",
        "version": 3
      },
      "file_extension": ".py",
      "mimetype": "text/x-python",
      "name": "python",
      "nbconvert_exporter": "python",
      "pygments_lexer": "ipython3",
      "version": "3.10.11"
    },
    "colab": {
      "provenance": [],
      "include_colab_link": true
    }
  },
  "nbformat": 4,
  "nbformat_minor": 5
}