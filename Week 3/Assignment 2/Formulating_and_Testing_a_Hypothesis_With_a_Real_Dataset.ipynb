{
  "nbformat": 4,
  "nbformat_minor": 0,
  "metadata": {
    "colab": {
      "provenance": [],
      "authorship_tag": "ABX9TyOYAImz8sKGbPiTc1h5F6Xy",
      "include_colab_link": true
    },
    "kernelspec": {
      "name": "python3",
      "display_name": "Python 3"
    },
    "language_info": {
      "name": "python"
    }
  },
  "cells": [
    {
      "cell_type": "markdown",
      "metadata": {
        "id": "view-in-github",
        "colab_type": "text"
      },
      "source": [
        "<a href=\"https://colab.research.google.com/github/Hassan-zeidan/AAI614_Zeidan/blob/main/Week%203/Assignment%202/Formulating_and_Testing_a_Hypothesis_With_a_Real_Dataset.ipynb\" target=\"_parent\"><img src=\"https://colab.research.google.com/assets/colab-badge.svg\" alt=\"Open In Colab\"/></a>"
      ]
    },
    {
      "cell_type": "markdown",
      "source": [
        "# Formulating and Testing a Hypothesis With a Real Dataset"
      ],
      "metadata": {
        "id": "rGnuy59qLjut"
      }
    },
    {
      "cell_type": "markdown",
      "source": [
        "In this exercise, you will independently choose a dataset, explore its variables, and formulate a research question that can be answered using hypothesis testing. You'll then carry out the entire statistical process—from question to conclusion—including verifying assumptions and interpreting results:\n",
        "\n",
        "a) Specify your research question and translate it into a hypothesis.  \n",
        "b) Specify and justify the choice of test.  \n",
        "c) Compute the suitable test score and draw conclusions.  \n",
        "d) Interpret your results and discuss the limitations of your conclusions.\n"
      ],
      "metadata": {
        "id": "O8qWFKFWG3ad"
      }
    },
    {
      "cell_type": "markdown",
      "source": [
        "# About this File :  \n",
        "Food servers’ tips in restaurants may be influenced by many\n",
        "factors, including the nature of the restaurant, size of the party, and table\n",
        "locations in the restaurant. Restaurant managers need to know which factors\n",
        "matter when they assign tables to food servers. For the sake of staff morale,\n",
        "they usually want to avoid either the substance or the appearance of unfair\n",
        "treatment of the servers, for whom tips (at least in restaurants in the United\n",
        "States) are a major component of pay.\n",
        "In one restaurant, a food server recorded the following data on all cus-\n",
        "tomers they served during an interval of two and a half months in early 1990.\n",
        "The restaurant, located in a suburban shopping mall, was part of a national\n",
        "chain and served a varied menu. In observance of local law, the restaurant\n",
        "offered to seat in a non-smoking section to patrons who requested it. Each\n",
        "record includes a day and time, and taken together, they show the server’s\n",
        "work schedule."
      ],
      "metadata": {
        "id": "jovpj1dgHA_0"
      }
    },
    {
      "cell_type": "markdown",
      "source": [
        "# **PART A:**\n",
        "\n",
        "---\n",
        "\n",
        "\n",
        "\n",
        "---\n",
        "\n"
      ],
      "metadata": {
        "id": "_WjlQIb4KnVR"
      }
    },
    {
      "cell_type": "markdown",
      "source": [
        "### **1) Research Question**  \n",
        "**Do smokers tip a different percentage of their bill compared to non-smokers?**"
      ],
      "metadata": {
        "id": "tq9qVbbvHpIn"
      }
    },
    {
      "cell_type": "markdown",
      "source": [
        "### **2) Hypothesis:**"
      ],
      "metadata": {
        "id": "nOZkwuSFH2nU"
      }
    },
    {
      "cell_type": "markdown",
      "source": [
        "**Null Hypothesis** : The mean tip percentage is the same for smokers and non-smokers.  \n",
        "$H_0$ : $\\mu_{\\text{smokers}}$ = $\\mu_{\\text{non-smokers}}$  \n",
        "**Alternative hypothesis**: The mean tip percentage is different between smokers and non-smokers.  \n",
        "$H_A$ : $\\mu_{\\text{smokers}} \\neq \\mu_{\\text{non-smokers}}$  "
      ],
      "metadata": {
        "id": "UHInJn5sH85C"
      }
    },
    {
      "cell_type": "markdown",
      "source": [
        "# **PART B:**\n",
        "\n",
        "---\n",
        "\n",
        "\n",
        "\n",
        "---\n"
      ],
      "metadata": {
        "id": "L3onbw06Kvxp"
      }
    },
    {
      "cell_type": "markdown",
      "source": [
        "### **Choice of Test:**  \n",
        "**Data type:** Numeric outcome (tip percentage), two independent groups (smoker vs non-smoker).\n",
        "\n",
        "**Appropriate test:** Two-sample t-test."
      ],
      "metadata": {
        "id": "xPkqPDWELE98"
      }
    },
    {
      "cell_type": "markdown",
      "source": [
        "# **PART C:**\n",
        "\n",
        "---\n",
        "\n",
        "\n",
        "\n",
        "---\n"
      ],
      "metadata": {
        "id": "PRH2BHg5L9Ht"
      }
    },
    {
      "cell_type": "markdown",
      "source": [
        "### **Compute the suitable test score and draw conclusions.**"
      ],
      "metadata": {
        "id": "oRWgGsDHLrLy"
      }
    },
    {
      "cell_type": "code",
      "source": [
        "import pandas as pd\n",
        "import numpy as np\n",
        "from scipy import stats"
      ],
      "metadata": {
        "id": "fbGwJ_jhMJ2l"
      },
      "execution_count": 1,
      "outputs": []
    },
    {
      "cell_type": "code",
      "source": [
        "df = pd.read_csv('tips.csv')   # Load Kaggle Dataset\n",
        "df.head()                      # check whether the Data set is loaded"
      ],
      "metadata": {
        "colab": {
          "base_uri": "https://localhost:8080/",
          "height": 206
        },
        "id": "LOWTpbmJMNB8",
        "outputId": "23a556db-2f46-43d5-931b-050151d27e2d"
      },
      "execution_count": 4,
      "outputs": [
        {
          "output_type": "execute_result",
          "data": {
            "text/plain": [
              "   total_bill   tip     sex smoker  day    time  size\n",
              "0       16.99  1.01  Female     No  Sun  Dinner     2\n",
              "1       10.34  1.66    Male     No  Sun  Dinner     3\n",
              "2       21.01  3.50    Male     No  Sun  Dinner     3\n",
              "3       23.68  3.31    Male     No  Sun  Dinner     2\n",
              "4       24.59  3.61  Female     No  Sun  Dinner     4"
            ],
            "text/html": [
              "\n",
              "  <div id=\"df-5495622b-dd77-4012-b0db-7befb6006f0e\" class=\"colab-df-container\">\n",
              "    <div>\n",
              "<style scoped>\n",
              "    .dataframe tbody tr th:only-of-type {\n",
              "        vertical-align: middle;\n",
              "    }\n",
              "\n",
              "    .dataframe tbody tr th {\n",
              "        vertical-align: top;\n",
              "    }\n",
              "\n",
              "    .dataframe thead th {\n",
              "        text-align: right;\n",
              "    }\n",
              "</style>\n",
              "<table border=\"1\" class=\"dataframe\">\n",
              "  <thead>\n",
              "    <tr style=\"text-align: right;\">\n",
              "      <th></th>\n",
              "      <th>total_bill</th>\n",
              "      <th>tip</th>\n",
              "      <th>sex</th>\n",
              "      <th>smoker</th>\n",
              "      <th>day</th>\n",
              "      <th>time</th>\n",
              "      <th>size</th>\n",
              "    </tr>\n",
              "  </thead>\n",
              "  <tbody>\n",
              "    <tr>\n",
              "      <th>0</th>\n",
              "      <td>16.99</td>\n",
              "      <td>1.01</td>\n",
              "      <td>Female</td>\n",
              "      <td>No</td>\n",
              "      <td>Sun</td>\n",
              "      <td>Dinner</td>\n",
              "      <td>2</td>\n",
              "    </tr>\n",
              "    <tr>\n",
              "      <th>1</th>\n",
              "      <td>10.34</td>\n",
              "      <td>1.66</td>\n",
              "      <td>Male</td>\n",
              "      <td>No</td>\n",
              "      <td>Sun</td>\n",
              "      <td>Dinner</td>\n",
              "      <td>3</td>\n",
              "    </tr>\n",
              "    <tr>\n",
              "      <th>2</th>\n",
              "      <td>21.01</td>\n",
              "      <td>3.50</td>\n",
              "      <td>Male</td>\n",
              "      <td>No</td>\n",
              "      <td>Sun</td>\n",
              "      <td>Dinner</td>\n",
              "      <td>3</td>\n",
              "    </tr>\n",
              "    <tr>\n",
              "      <th>3</th>\n",
              "      <td>23.68</td>\n",
              "      <td>3.31</td>\n",
              "      <td>Male</td>\n",
              "      <td>No</td>\n",
              "      <td>Sun</td>\n",
              "      <td>Dinner</td>\n",
              "      <td>2</td>\n",
              "    </tr>\n",
              "    <tr>\n",
              "      <th>4</th>\n",
              "      <td>24.59</td>\n",
              "      <td>3.61</td>\n",
              "      <td>Female</td>\n",
              "      <td>No</td>\n",
              "      <td>Sun</td>\n",
              "      <td>Dinner</td>\n",
              "      <td>4</td>\n",
              "    </tr>\n",
              "  </tbody>\n",
              "</table>\n",
              "</div>\n",
              "    <div class=\"colab-df-buttons\">\n",
              "\n",
              "  <div class=\"colab-df-container\">\n",
              "    <button class=\"colab-df-convert\" onclick=\"convertToInteractive('df-5495622b-dd77-4012-b0db-7befb6006f0e')\"\n",
              "            title=\"Convert this dataframe to an interactive table.\"\n",
              "            style=\"display:none;\">\n",
              "\n",
              "  <svg xmlns=\"http://www.w3.org/2000/svg\" height=\"24px\" viewBox=\"0 -960 960 960\">\n",
              "    <path d=\"M120-120v-720h720v720H120Zm60-500h600v-160H180v160Zm220 220h160v-160H400v160Zm0 220h160v-160H400v160ZM180-400h160v-160H180v160Zm440 0h160v-160H620v160ZM180-180h160v-160H180v160Zm440 0h160v-160H620v160Z\"/>\n",
              "  </svg>\n",
              "    </button>\n",
              "\n",
              "  <style>\n",
              "    .colab-df-container {\n",
              "      display:flex;\n",
              "      gap: 12px;\n",
              "    }\n",
              "\n",
              "    .colab-df-convert {\n",
              "      background-color: #E8F0FE;\n",
              "      border: none;\n",
              "      border-radius: 50%;\n",
              "      cursor: pointer;\n",
              "      display: none;\n",
              "      fill: #1967D2;\n",
              "      height: 32px;\n",
              "      padding: 0 0 0 0;\n",
              "      width: 32px;\n",
              "    }\n",
              "\n",
              "    .colab-df-convert:hover {\n",
              "      background-color: #E2EBFA;\n",
              "      box-shadow: 0px 1px 2px rgba(60, 64, 67, 0.3), 0px 1px 3px 1px rgba(60, 64, 67, 0.15);\n",
              "      fill: #174EA6;\n",
              "    }\n",
              "\n",
              "    .colab-df-buttons div {\n",
              "      margin-bottom: 4px;\n",
              "    }\n",
              "\n",
              "    [theme=dark] .colab-df-convert {\n",
              "      background-color: #3B4455;\n",
              "      fill: #D2E3FC;\n",
              "    }\n",
              "\n",
              "    [theme=dark] .colab-df-convert:hover {\n",
              "      background-color: #434B5C;\n",
              "      box-shadow: 0px 1px 3px 1px rgba(0, 0, 0, 0.15);\n",
              "      filter: drop-shadow(0px 1px 2px rgba(0, 0, 0, 0.3));\n",
              "      fill: #FFFFFF;\n",
              "    }\n",
              "  </style>\n",
              "\n",
              "    <script>\n",
              "      const buttonEl =\n",
              "        document.querySelector('#df-5495622b-dd77-4012-b0db-7befb6006f0e button.colab-df-convert');\n",
              "      buttonEl.style.display =\n",
              "        google.colab.kernel.accessAllowed ? 'block' : 'none';\n",
              "\n",
              "      async function convertToInteractive(key) {\n",
              "        const element = document.querySelector('#df-5495622b-dd77-4012-b0db-7befb6006f0e');\n",
              "        const dataTable =\n",
              "          await google.colab.kernel.invokeFunction('convertToInteractive',\n",
              "                                                    [key], {});\n",
              "        if (!dataTable) return;\n",
              "\n",
              "        const docLinkHtml = 'Like what you see? Visit the ' +\n",
              "          '<a target=\"_blank\" href=https://colab.research.google.com/notebooks/data_table.ipynb>data table notebook</a>'\n",
              "          + ' to learn more about interactive tables.';\n",
              "        element.innerHTML = '';\n",
              "        dataTable['output_type'] = 'display_data';\n",
              "        await google.colab.output.renderOutput(dataTable, element);\n",
              "        const docLink = document.createElement('div');\n",
              "        docLink.innerHTML = docLinkHtml;\n",
              "        element.appendChild(docLink);\n",
              "      }\n",
              "    </script>\n",
              "  </div>\n",
              "\n",
              "\n",
              "    <div id=\"df-e96cfb0d-5720-4097-885e-e74f70e94b63\">\n",
              "      <button class=\"colab-df-quickchart\" onclick=\"quickchart('df-e96cfb0d-5720-4097-885e-e74f70e94b63')\"\n",
              "                title=\"Suggest charts\"\n",
              "                style=\"display:none;\">\n",
              "\n",
              "<svg xmlns=\"http://www.w3.org/2000/svg\" height=\"24px\"viewBox=\"0 0 24 24\"\n",
              "     width=\"24px\">\n",
              "    <g>\n",
              "        <path d=\"M19 3H5c-1.1 0-2 .9-2 2v14c0 1.1.9 2 2 2h14c1.1 0 2-.9 2-2V5c0-1.1-.9-2-2-2zM9 17H7v-7h2v7zm4 0h-2V7h2v10zm4 0h-2v-4h2v4z\"/>\n",
              "    </g>\n",
              "</svg>\n",
              "      </button>\n",
              "\n",
              "<style>\n",
              "  .colab-df-quickchart {\n",
              "      --bg-color: #E8F0FE;\n",
              "      --fill-color: #1967D2;\n",
              "      --hover-bg-color: #E2EBFA;\n",
              "      --hover-fill-color: #174EA6;\n",
              "      --disabled-fill-color: #AAA;\n",
              "      --disabled-bg-color: #DDD;\n",
              "  }\n",
              "\n",
              "  [theme=dark] .colab-df-quickchart {\n",
              "      --bg-color: #3B4455;\n",
              "      --fill-color: #D2E3FC;\n",
              "      --hover-bg-color: #434B5C;\n",
              "      --hover-fill-color: #FFFFFF;\n",
              "      --disabled-bg-color: #3B4455;\n",
              "      --disabled-fill-color: #666;\n",
              "  }\n",
              "\n",
              "  .colab-df-quickchart {\n",
              "    background-color: var(--bg-color);\n",
              "    border: none;\n",
              "    border-radius: 50%;\n",
              "    cursor: pointer;\n",
              "    display: none;\n",
              "    fill: var(--fill-color);\n",
              "    height: 32px;\n",
              "    padding: 0;\n",
              "    width: 32px;\n",
              "  }\n",
              "\n",
              "  .colab-df-quickchart:hover {\n",
              "    background-color: var(--hover-bg-color);\n",
              "    box-shadow: 0 1px 2px rgba(60, 64, 67, 0.3), 0 1px 3px 1px rgba(60, 64, 67, 0.15);\n",
              "    fill: var(--button-hover-fill-color);\n",
              "  }\n",
              "\n",
              "  .colab-df-quickchart-complete:disabled,\n",
              "  .colab-df-quickchart-complete:disabled:hover {\n",
              "    background-color: var(--disabled-bg-color);\n",
              "    fill: var(--disabled-fill-color);\n",
              "    box-shadow: none;\n",
              "  }\n",
              "\n",
              "  .colab-df-spinner {\n",
              "    border: 2px solid var(--fill-color);\n",
              "    border-color: transparent;\n",
              "    border-bottom-color: var(--fill-color);\n",
              "    animation:\n",
              "      spin 1s steps(1) infinite;\n",
              "  }\n",
              "\n",
              "  @keyframes spin {\n",
              "    0% {\n",
              "      border-color: transparent;\n",
              "      border-bottom-color: var(--fill-color);\n",
              "      border-left-color: var(--fill-color);\n",
              "    }\n",
              "    20% {\n",
              "      border-color: transparent;\n",
              "      border-left-color: var(--fill-color);\n",
              "      border-top-color: var(--fill-color);\n",
              "    }\n",
              "    30% {\n",
              "      border-color: transparent;\n",
              "      border-left-color: var(--fill-color);\n",
              "      border-top-color: var(--fill-color);\n",
              "      border-right-color: var(--fill-color);\n",
              "    }\n",
              "    40% {\n",
              "      border-color: transparent;\n",
              "      border-right-color: var(--fill-color);\n",
              "      border-top-color: var(--fill-color);\n",
              "    }\n",
              "    60% {\n",
              "      border-color: transparent;\n",
              "      border-right-color: var(--fill-color);\n",
              "    }\n",
              "    80% {\n",
              "      border-color: transparent;\n",
              "      border-right-color: var(--fill-color);\n",
              "      border-bottom-color: var(--fill-color);\n",
              "    }\n",
              "    90% {\n",
              "      border-color: transparent;\n",
              "      border-bottom-color: var(--fill-color);\n",
              "    }\n",
              "  }\n",
              "</style>\n",
              "\n",
              "      <script>\n",
              "        async function quickchart(key) {\n",
              "          const quickchartButtonEl =\n",
              "            document.querySelector('#' + key + ' button');\n",
              "          quickchartButtonEl.disabled = true;  // To prevent multiple clicks.\n",
              "          quickchartButtonEl.classList.add('colab-df-spinner');\n",
              "          try {\n",
              "            const charts = await google.colab.kernel.invokeFunction(\n",
              "                'suggestCharts', [key], {});\n",
              "          } catch (error) {\n",
              "            console.error('Error during call to suggestCharts:', error);\n",
              "          }\n",
              "          quickchartButtonEl.classList.remove('colab-df-spinner');\n",
              "          quickchartButtonEl.classList.add('colab-df-quickchart-complete');\n",
              "        }\n",
              "        (() => {\n",
              "          let quickchartButtonEl =\n",
              "            document.querySelector('#df-e96cfb0d-5720-4097-885e-e74f70e94b63 button');\n",
              "          quickchartButtonEl.style.display =\n",
              "            google.colab.kernel.accessAllowed ? 'block' : 'none';\n",
              "        })();\n",
              "      </script>\n",
              "    </div>\n",
              "\n",
              "    </div>\n",
              "  </div>\n"
            ],
            "application/vnd.google.colaboratory.intrinsic+json": {
              "type": "dataframe",
              "variable_name": "df",
              "summary": "{\n  \"name\": \"df\",\n  \"rows\": 244,\n  \"fields\": [\n    {\n      \"column\": \"total_bill\",\n      \"properties\": {\n        \"dtype\": \"number\",\n        \"std\": 8.902411954856856,\n        \"min\": 3.07,\n        \"max\": 50.81,\n        \"num_unique_values\": 229,\n        \"samples\": [\n          22.12,\n          20.23,\n          14.78\n        ],\n        \"semantic_type\": \"\",\n        \"description\": \"\"\n      }\n    },\n    {\n      \"column\": \"tip\",\n      \"properties\": {\n        \"dtype\": \"number\",\n        \"std\": 1.3836381890011826,\n        \"min\": 1.0,\n        \"max\": 10.0,\n        \"num_unique_values\": 123,\n        \"samples\": [\n          3.35,\n          1.5,\n          6.73\n        ],\n        \"semantic_type\": \"\",\n        \"description\": \"\"\n      }\n    },\n    {\n      \"column\": \"sex\",\n      \"properties\": {\n        \"dtype\": \"category\",\n        \"num_unique_values\": 2,\n        \"samples\": [\n          \"Male\",\n          \"Female\"\n        ],\n        \"semantic_type\": \"\",\n        \"description\": \"\"\n      }\n    },\n    {\n      \"column\": \"smoker\",\n      \"properties\": {\n        \"dtype\": \"category\",\n        \"num_unique_values\": 2,\n        \"samples\": [\n          \"Yes\",\n          \"No\"\n        ],\n        \"semantic_type\": \"\",\n        \"description\": \"\"\n      }\n    },\n    {\n      \"column\": \"day\",\n      \"properties\": {\n        \"dtype\": \"category\",\n        \"num_unique_values\": 4,\n        \"samples\": [\n          \"Sat\",\n          \"Fri\"\n        ],\n        \"semantic_type\": \"\",\n        \"description\": \"\"\n      }\n    },\n    {\n      \"column\": \"time\",\n      \"properties\": {\n        \"dtype\": \"category\",\n        \"num_unique_values\": 2,\n        \"samples\": [\n          \"Lunch\",\n          \"Dinner\"\n        ],\n        \"semantic_type\": \"\",\n        \"description\": \"\"\n      }\n    },\n    {\n      \"column\": \"size\",\n      \"properties\": {\n        \"dtype\": \"number\",\n        \"std\": 0,\n        \"min\": 1,\n        \"max\": 6,\n        \"num_unique_values\": 6,\n        \"samples\": [\n          2,\n          3\n        ],\n        \"semantic_type\": \"\",\n        \"description\": \"\"\n      }\n    }\n  ]\n}"
            }
          },
          "metadata": {},
          "execution_count": 4
        }
      ]
    },
    {
      "cell_type": "code",
      "source": [
        "df['tip_percentage'] = df['tip']/df['total_bill']        # Tip percentage \"kept in decimal\"\n",
        "smokers = df[df['smoker']=='Yes']['tip_percentage']       # Smokers data with the tip percentage column\n",
        "non_smokers = df[df['smoker']=='No']['tip_percentage']    # non-smokers data with the tip percentage column\n"
      ],
      "metadata": {
        "id": "OYMWYl0iMxm3"
      },
      "execution_count": 12,
      "outputs": []
    },
    {
      "cell_type": "code",
      "source": [
        "# now we have our data ready to be used for the calculations\n",
        "n1 = len(smokers)                                            # size of smokers sample\n",
        "n2 = len(non_smokers)                                        # size of non smokers sample\n",
        "\n",
        "x1 = smokers.mean()                                          # sample mean of smokers set\n",
        "x2 = non_smokers.mean()                                      # sample mean of non smokers set\n",
        "\n",
        "s1_sq = smokers.var(ddof=1)                                  # sample variance of smokers set\n",
        "s2_sq = non_smokers.var(ddof=1)                              # sample variance of non smokers set\n",
        "\n",
        "sp_sq = ((n1-1)*s1_sq + (n2-1)*s2_sq) / (n1 + n2 - 2)        # pooled variance\n",
        "sp = np.sqrt(sp_sq)                                          # pooled standard deviation\n",
        "\n",
        "t_obs = (x1 - x2) / (sp * np.sqrt(1/n1 + 1/n2))              # t-statistic\n",
        "\n",
        "df = n1 + n2 - 2                                             # degree of freedom\n",
        "\n",
        "se = sp*np.sqrt(1/n1 + 1/n2)                                 # standard error\n",
        "\n",
        "abs_t = np.abs(t_obs)                                        # absolute value of t-statistic\n",
        "\n",
        "p_value = 1 - stats.t.cdf(abs_t, df)                         # p-value\n",
        "p_two_sided = 2.0 * p_value                                  # two-sided p-value\n",
        "\n"
      ],
      "metadata": {
        "id": "7bQPKLsbQfvD"
      },
      "execution_count": 17,
      "outputs": []
    },
    {
      "cell_type": "code",
      "source": [
        "alpha = 0.05                                # 95% confidence\n",
        "tcrit = stats.t.ppf(1 - alpha/2, df)        # critical t-value\n",
        "margin = tcrit * se                         # margin of error\n",
        "diff_means = x1 - x2                        # observed mean difference\n",
        "ci_lower = diff_means - margin\n",
        "ci_upper = diff_means + margin"
      ],
      "metadata": {
        "id": "9zzsBOtzXXlb"
      },
      "execution_count": 18,
      "outputs": []
    },
    {
      "cell_type": "code",
      "source": [
        "print(\"Sample sizes:\", n1, n2)\n",
        "print(\"Means:\", x1, x2)\n",
        "print(\"Difference in means (smokers - non-smokers):\", diff_means)\n",
        "print(\"t-statistic:\", t_obs)\n",
        "print(\"Degrees of freedom:\", df)\n",
        "print(\"Two-sided p-value:\", p_two_sided)\n",
        "print(\"95% CI for (mu1 - mu2):\", (ci_lower, ci_upper))"
      ],
      "metadata": {
        "colab": {
          "base_uri": "https://localhost:8080/"
        },
        "id": "mXxoPvsUXbeF",
        "outputId": "ef44496a-d846-41a9-a0de-04e9f2b1e902"
      },
      "execution_count": 19,
      "outputs": [
        {
          "output_type": "stream",
          "name": "stdout",
          "text": [
            "Sample sizes: 93 151\n",
            "Means: 0.16319604463687792 0.15932846217921523\n",
            "Difference in means (smokers - non-smokers): 0.003867582457662694\n",
            "t-statistic: 0.4796693002669869\n",
            "Degrees of freedom: 242\n",
            "Two-sided p-value: 0.631895777687852\n",
            "95% CI for (mu1 - mu2): (np.float64(-0.012015073475032632), np.float64(0.01975023839035802))\n"
          ]
        }
      ]
    },
    {
      "cell_type": "markdown",
      "source": [
        "# **Part D:**\n",
        "\n",
        "---\n",
        "\n",
        "\n",
        "\n",
        "---\n",
        "\n",
        "\n",
        "\n",
        "---\n",
        "\n"
      ],
      "metadata": {
        "id": "o4YY2hYTZIwL"
      }
    },
    {
      "cell_type": "markdown",
      "source": [
        "**Interpretation**  \n",
        "When we look at the results, the average tip percent for smokers was about 16.3 while non smokers was 15.9. The difference between them is almost nothing, around 0.4 percent. The t test gave a value of 0.48 with p equal to 0.63. This is very high, it means that such a small difference is very possible to happen by chance if in reality there is no difference. Also the confidence interval range goes from negative 1.2 percent to positive 2 percent, which means the real difference could be less, could be more, or even zero. So we don’t see any strong evidence that smoking status changes tipping behavior.\n",
        "\n",
        "**conclusion**  \n",
        "Based on this test we cannot reject the null hypothesis. The data do not support any real difference in the percentage of tip between smokers and non smokers. Even though smokers had a little bit higher average, the result is not significant and could just be random variation. In simple words, in this restaurant the tipping percent is basically the same for both groups.\n",
        "\n",
        "**limitation**  \n",
        "The data has some limits that we should keep in mind. It was collected from one restaurant only, so we cannot generalize for all restaurants or countries. Also the dataset is observational, not an experiment, so many other things can affect the tips, like the day of week, the size of the group, or the quality of service, and we cannot control for these factors."
      ],
      "metadata": {
        "id": "dXc4rSg8Y2MF"
      }
    },
    {
      "cell_type": "markdown",
      "source": [
        "Ai usage:  \n",
        "1) some latex equations - example \" $H_A$ : $\\mu_{\\text{smokers}} \\neq \\mu_{\\text{non-smokers}}$ \"\n",
        "\n",
        "2) tcrit = stats.t.ppf(1 - alpha/2, df) # critical t-value  \n",
        "margin = tcrit * se                         # margin of error\n",
        "\n",
        "3) some of the result analysis"
      ],
      "metadata": {
        "id": "YIZSEfBZKO5_"
      }
    },
    {
      "cell_type": "code",
      "source": [],
      "metadata": {
        "id": "ctDFUBLTZuNI"
      },
      "execution_count": null,
      "outputs": []
    }
  ]
}